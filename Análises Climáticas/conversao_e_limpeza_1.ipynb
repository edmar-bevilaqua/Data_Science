{
 "cells": [
  {
   "cell_type": "code",
   "execution_count": 1,
   "id": "99843134-eb5a-4f31-a685-901c43e52937",
   "metadata": {},
   "outputs": [],
   "source": [
    "import numpy as np\n",
    "import pandas as pd\n",
    "import seaborn as sns\n",
    "import matplotlib.pyplot as plt"
   ]
  },
  {
   "cell_type": "code",
   "execution_count": 12,
   "id": "05cc842b-0c88-4375-b370-7866ea6d3eb2",
   "metadata": {},
   "outputs": [],
   "source": [
    "df = pd.read_csv('./dados_hora_est.csv', sep=';', low_memory=False)"
   ]
  },
  {
   "cell_type": "code",
   "execution_count": 13,
   "id": "23cc59ba-82a7-45fd-bae2-e301f79e4908",
   "metadata": {},
   "outputs": [
    {
     "data": {
      "text/html": [
       "<div>\n",
       "<style scoped>\n",
       "    .dataframe tbody tr th:only-of-type {\n",
       "        vertical-align: middle;\n",
       "    }\n",
       "\n",
       "    .dataframe tbody tr th {\n",
       "        vertical-align: top;\n",
       "    }\n",
       "\n",
       "    .dataframe thead th {\n",
       "        text-align: right;\n",
       "    }\n",
       "</style>\n",
       "<table border=\"1\" class=\"dataframe\">\n",
       "  <thead>\n",
       "    <tr style=\"text-align: right;\">\n",
       "      <th></th>\n",
       "      <th>Estação</th>\n",
       "      <th>Mês</th>\n",
       "      <th>Mês.1</th>\n",
       "      <th>Dia</th>\n",
       "      <th>Hora</th>\n",
       "      <th>Ano</th>\n",
       "      <th>Vel, Vento Máx, (Km/h)</th>\n",
       "      <th>Vel, Vento Média (Km/h)</th>\n",
       "      <th>Vel, Vento Vetor (Km/h)</th>\n",
       "      <th>Dir, Vento Média (graus)</th>\n",
       "      <th>...</th>\n",
       "      <th>Temp. Ar  Mínima (ºC)</th>\n",
       "      <th>Um. Rel. Média (%)</th>\n",
       "      <th>Um. Rel. Máxima (%)</th>\n",
       "      <th>Um. Rel. Mínima (%)</th>\n",
       "      <th>Rd. Global Média (W/m²)</th>\n",
       "      <th>Rd. MJ m-2</th>\n",
       "      <th>Rd. Par Média (µmol)</th>\n",
       "      <th>Rd. Liquida (W/m²)</th>\n",
       "      <th>Etz. Deg_C Etsz</th>\n",
       "      <th>Solar_Rad_Calc. Deg C. Rso</th>\n",
       "    </tr>\n",
       "  </thead>\n",
       "  <tbody>\n",
       "    <tr>\n",
       "      <th>0</th>\n",
       "      <td>Cerro do Roque</td>\n",
       "      <td>1</td>\n",
       "      <td>Janeiro</td>\n",
       "      <td>1.0</td>\n",
       "      <td>00:00:00</td>\n",
       "      <td>2020</td>\n",
       "      <td>17,7</td>\n",
       "      <td>9,5</td>\n",
       "      <td>9,2</td>\n",
       "      <td>66,3</td>\n",
       "      <td>...</td>\n",
       "      <td>19,76</td>\n",
       "      <td>86,7</td>\n",
       "      <td>88,8</td>\n",
       "      <td>83,9</td>\n",
       "      <td>0</td>\n",
       "      <td>NaN</td>\n",
       "      <td>0</td>\n",
       "      <td>-20</td>\n",
       "      <td>NaN</td>\n",
       "      <td>NaN</td>\n",
       "    </tr>\n",
       "    <tr>\n",
       "      <th>1</th>\n",
       "      <td>Cerro do Roque</td>\n",
       "      <td>1</td>\n",
       "      <td>Janeiro</td>\n",
       "      <td>1.0</td>\n",
       "      <td>00:30:00</td>\n",
       "      <td>2020</td>\n",
       "      <td>16,4</td>\n",
       "      <td>9,6</td>\n",
       "      <td>9,2</td>\n",
       "      <td>22,0</td>\n",
       "      <td>...</td>\n",
       "      <td>-</td>\n",
       "      <td>-</td>\n",
       "      <td>-</td>\n",
       "      <td>-</td>\n",
       "      <td>-</td>\n",
       "      <td>NaN</td>\n",
       "      <td>-</td>\n",
       "      <td>-</td>\n",
       "      <td>NaN</td>\n",
       "      <td>NaN</td>\n",
       "    </tr>\n",
       "    <tr>\n",
       "      <th>2</th>\n",
       "      <td>Cerro do Roque</td>\n",
       "      <td>1</td>\n",
       "      <td>Janeiro</td>\n",
       "      <td>1.0</td>\n",
       "      <td>01:00:00</td>\n",
       "      <td>2020</td>\n",
       "      <td>17,3</td>\n",
       "      <td>11,2</td>\n",
       "      <td>10,8</td>\n",
       "      <td>15,0</td>\n",
       "      <td>...</td>\n",
       "      <td>19,96</td>\n",
       "      <td>81,5</td>\n",
       "      <td>86,6</td>\n",
       "      <td>76,81</td>\n",
       "      <td>0</td>\n",
       "      <td>NaN</td>\n",
       "      <td>0</td>\n",
       "      <td>-20</td>\n",
       "      <td>NaN</td>\n",
       "      <td>NaN</td>\n",
       "    </tr>\n",
       "    <tr>\n",
       "      <th>3</th>\n",
       "      <td>Cerro do Roque</td>\n",
       "      <td>1</td>\n",
       "      <td>Janeiro</td>\n",
       "      <td>1.0</td>\n",
       "      <td>01:30:00</td>\n",
       "      <td>2020</td>\n",
       "      <td>17,0</td>\n",
       "      <td>9,0</td>\n",
       "      <td>8,8</td>\n",
       "      <td>4,0</td>\n",
       "      <td>...</td>\n",
       "      <td>-</td>\n",
       "      <td>-</td>\n",
       "      <td>-</td>\n",
       "      <td>-</td>\n",
       "      <td>-</td>\n",
       "      <td>NaN</td>\n",
       "      <td>-</td>\n",
       "      <td>-</td>\n",
       "      <td>NaN</td>\n",
       "      <td>NaN</td>\n",
       "    </tr>\n",
       "    <tr>\n",
       "      <th>4</th>\n",
       "      <td>Cerro do Roque</td>\n",
       "      <td>1</td>\n",
       "      <td>Janeiro</td>\n",
       "      <td>1.0</td>\n",
       "      <td>02:00:00</td>\n",
       "      <td>2020</td>\n",
       "      <td>13,6</td>\n",
       "      <td>8,9</td>\n",
       "      <td>8,4</td>\n",
       "      <td>9,0</td>\n",
       "      <td>...</td>\n",
       "      <td>19,82</td>\n",
       "      <td>83,3</td>\n",
       "      <td>85,3</td>\n",
       "      <td>80,9</td>\n",
       "      <td>0</td>\n",
       "      <td>NaN</td>\n",
       "      <td>0</td>\n",
       "      <td>-20</td>\n",
       "      <td>NaN</td>\n",
       "      <td>NaN</td>\n",
       "    </tr>\n",
       "  </tbody>\n",
       "</table>\n",
       "<p>5 rows × 24 columns</p>\n",
       "</div>"
      ],
      "text/plain": [
       "           Estação  Mês    Mês.1  Dia      Hora   Ano Vel, Vento Máx, (Km/h)  \\\n",
       "0  Cerro do Roque     1  Janeiro  1.0  00:00:00  2020                   17,7   \n",
       "1  Cerro do Roque     1  Janeiro  1.0  00:30:00  2020                   16,4   \n",
       "2  Cerro do Roque     1  Janeiro  1.0  01:00:00  2020                   17,3   \n",
       "3  Cerro do Roque     1  Janeiro  1.0  01:30:00  2020                   17,0   \n",
       "4  Cerro do Roque     1  Janeiro  1.0  02:00:00  2020                   13,6   \n",
       "\n",
       "  Vel, Vento Média (Km/h) Vel, Vento Vetor (Km/h) Dir, Vento Média (graus)  \\\n",
       "0                     9,5                     9,2                     66,3   \n",
       "1                     9,6                     9,2                     22,0   \n",
       "2                    11,2                    10,8                     15,0   \n",
       "3                     9,0                     8,8                      4,0   \n",
       "4                     8,9                     8,4                      9,0   \n",
       "\n",
       "   ... Temp. Ar  Mínima (ºC) Um. Rel. Média (%) Um. Rel. Máxima (%)  \\\n",
       "0  ...                 19,76               86,7                88,8   \n",
       "1  ...                     -                  -                   -   \n",
       "2  ...                 19,96               81,5                86,6   \n",
       "3  ...                     -                  -                   -   \n",
       "4  ...                 19,82               83,3                85,3   \n",
       "\n",
       "  Um. Rel. Mínima (%) Rd. Global Média (W/m²) Rd. MJ m-2 Rd. Par Média (µmol)  \\\n",
       "0                83,9                       0        NaN                    0   \n",
       "1                   -                       -        NaN                    -   \n",
       "2               76,81                       0        NaN                    0   \n",
       "3                   -                       -        NaN                    -   \n",
       "4                80,9                       0        NaN                    0   \n",
       "\n",
       "  Rd. Liquida (W/m²) Etz. Deg_C Etsz Solar_Rad_Calc. Deg C. Rso  \n",
       "0                -20             NaN                        NaN  \n",
       "1                  -             NaN                        NaN  \n",
       "2                -20             NaN                        NaN  \n",
       "3                  -             NaN                        NaN  \n",
       "4                -20             NaN                        NaN  \n",
       "\n",
       "[5 rows x 24 columns]"
      ]
     },
     "execution_count": 13,
     "metadata": {},
     "output_type": "execute_result"
    }
   ],
   "source": [
    "df.head()"
   ]
  },
  {
   "cell_type": "code",
   "execution_count": 24,
   "id": "a7a1e3a1-ff16-48c2-b53c-1f7605dc047f",
   "metadata": {},
   "outputs": [
    {
     "data": {
      "text/plain": [
       "Estação                      0\n",
       "Mês                          0\n",
       "Mês.1                        0\n",
       "Dia                          0\n",
       "Hora                         0\n",
       "Ano                          0\n",
       "Vel, Vento Máx, (Km/h)       0\n",
       "Vel, Vento Média (Km/h)      0\n",
       "Vel, Vento Vetor (Km/h)      0\n",
       "Dir, Vento Média (graus)     0\n",
       "Dir, Vento Desvio (graus)    0\n",
       "Precipitação Total (mm)      0\n",
       "Temp. Ar Média (ºC)          0\n",
       "Temp. Ar Máx, (ºC)           0\n",
       "Temp. Ar  Mínima (ºC)        0\n",
       "Um. Rel. Média (%)           0\n",
       "Um. Rel. Máxima (%)          0\n",
       "Um. Rel. Mínima (%)          0\n",
       "dtype: int64"
      ]
     },
     "execution_count": 24,
     "metadata": {},
     "output_type": "execute_result"
    }
   ],
   "source": [
    "df[df == '-'].count()"
   ]
  },
  {
   "cell_type": "code",
   "execution_count": 15,
   "id": "f41ce343-51d9-41b4-9799-59d902ef6df6",
   "metadata": {},
   "outputs": [],
   "source": [
    "df.drop(columns=['Solar_Rad_Calc. Deg C. Rso', 'Etz. Deg_C Etsz', 'Rd. Par Média (µmol)', 'Rd. MJ m-2', 'Rd. Global Média (W/m²)', 'Rd. Liquida (W/m²)'], inplace=True)"
   ]
  },
  {
   "cell_type": "code",
   "execution_count": 28,
   "id": "f5740b4d-2e0b-4c6f-a89c-a3ff525de009",
   "metadata": {},
   "outputs": [
    {
     "data": {
      "text/plain": [
       "array(['Cerro do Roque', 'Ramos', 'Terra Dura', 'Viveiro', 'São Sepé',\n",
       "       'São Manoel', 'Aroeira'], dtype=object)"
      ]
     },
     "execution_count": 28,
     "metadata": {},
     "output_type": "execute_result"
    }
   ],
   "source": [
    "df.loc[:, 'Estação'].unique()"
   ]
  },
  {
   "cell_type": "code",
   "execution_count": 23,
   "id": "7bbc44d3-44ee-424b-bb0c-341910104195",
   "metadata": {},
   "outputs": [],
   "source": [
    "df.replace(to_replace='-', value=0, inplace= True)"
   ]
  },
  {
   "cell_type": "code",
   "execution_count": 27,
   "id": "5f81f8ae-1685-4a20-a43e-f04387aa2b09",
   "metadata": {},
   "outputs": [],
   "source": [
    "df.replace(to_replace='Cerro do Roque ', value='Cerro do Roque', inplace= True)\n",
    "df.replace(to_replace='Terra Dura ', value='Terra Dura', inplace= True)"
   ]
  },
  {
   "cell_type": "code",
   "execution_count": 29,
   "id": "b5e232c2-b8ba-4011-9f76-2b16013a2a56",
   "metadata": {},
   "outputs": [
    {
     "data": {
      "text/plain": [
       "Estação                      0\n",
       "Mês                          0\n",
       "Mês.1                        0\n",
       "Dia                          0\n",
       "Hora                         0\n",
       "Ano                          0\n",
       "Vel, Vento Máx, (Km/h)       0\n",
       "Vel, Vento Média (Km/h)      0\n",
       "Vel, Vento Vetor (Km/h)      0\n",
       "Dir, Vento Média (graus)     0\n",
       "Dir, Vento Desvio (graus)    0\n",
       "Precipitação Total (mm)      0\n",
       "Temp. Ar Média (ºC)          0\n",
       "Temp. Ar Máx, (ºC)           0\n",
       "Temp. Ar  Mínima (ºC)        0\n",
       "Um. Rel. Média (%)           0\n",
       "Um. Rel. Máxima (%)          0\n",
       "Um. Rel. Mínima (%)          0\n",
       "dtype: int64"
      ]
     },
     "execution_count": 29,
     "metadata": {},
     "output_type": "execute_result"
    }
   ],
   "source": [
    "df[df == '-'].count()"
   ]
  },
  {
   "cell_type": "code",
   "execution_count": 30,
   "id": "18656e58-ba76-4f26-9d86-a05dfa2f67bf",
   "metadata": {},
   "outputs": [],
   "source": [
    "df.to_csv(path_or_buf='./dados_estação.csv')"
   ]
  },
  {
   "cell_type": "code",
   "execution_count": null,
   "id": "7bb525d0-580b-4feb-8fc8-2287954b38d6",
   "metadata": {},
   "outputs": [],
   "source": []
  }
 ],
 "metadata": {
  "kernelspec": {
   "display_name": "Python 3 (ipykernel)",
   "language": "python",
   "name": "python3"
  },
  "language_info": {
   "codemirror_mode": {
    "name": "ipython",
    "version": 3
   },
   "file_extension": ".py",
   "mimetype": "text/x-python",
   "name": "python",
   "nbconvert_exporter": "python",
   "pygments_lexer": "ipython3",
   "version": "3.10.9"
  }
 },
 "nbformat": 4,
 "nbformat_minor": 5
}
