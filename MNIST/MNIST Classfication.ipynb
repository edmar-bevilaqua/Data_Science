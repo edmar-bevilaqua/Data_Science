{
 "cells": [
  {
   "cell_type": "markdown",
   "id": "0cc5ae65-6559-477d-b220-b0acf819f809",
   "metadata": {},
   "source": [
    "<span style='font-size:20px'>\n",
    "\n",
    "# Using Classification Algorithms to Solve the MNIST Handwritten Numbers dataset\n",
    "\n",
    "</span>\n",
    "\n",
    "---\n",
    "\n",
    "<span style='font-size:22px'>This code was written by **Edmar Junyor Bevilaqua**, if you want to know a little more about me, feel free to visit my social media:</span>\n",
    "* <a href=\"https://www.linkedin.com/in/edmar-bevilaqua/\"><span style='font-size:22px'>LinkedIn</span></a>\n",
    "* <a href=\"https://github.com/edmar-bevilaqua\"><span style='font-size:22px'>GitHub</span></a>\n",
    "* <a href=\"https://www.instagram.com/edmar_bevilaqua/\"><span style='font-size:22px'>Instagram</span></a>\n",
    "\n",
    "---"
   ]
  },
  {
   "cell_type": "markdown",
   "id": "52fb667b-9b88-46c5-83ac-490c473850c5",
   "metadata": {
    "tags": []
   },
   "source": [
    "<span style='font-size:25px'><strong>Note:</strong></span><br>\n",
    "<span style='font-size:20px'>Most of the content you will see in this repository is based on projects I developed while learning Data Science, so if you want a more detailed and technical content, you can check the following books that I used to learn:</span><br>\n",
    "* <span style='font-size:20px'><i>\"Hands-On Machine Learning with Scikit-Learn, Keras &amp; TensorFlow\"</i>, written by <a href=\"https://github.com/ageron\"><strong>Aurélien Géron</strong></a> and published by <a href=\"https://www.oreilly.com/\"><strong>O'Reilly</strong></a></span>. <br><br>\n",
    "* <span style='font-size:20px'><i>\"Python for Data Analysis: Data Wrangling with Pandas, Numpy, and Jupyter\"</i>, written by <a href=\"https://github.com/wesm\"><strong>Wes McKinney</strong></a> and published by <a href=\"https://www.oreilly.com/\"><strong>O'Reilly</strong></a></span>. <br><br>\n",
    "* <span style='font-size:20px'><i>\"Aprendizado de Máquina - Uma Abordagem Estatística\"</i>, written by <a href=\"https://github.com/rizbicki\"><strong>Rafael Izbicki</strong></a> and <a href=\"https://tiagoms.com/\"><strong>Tiago Mendonça dos Santos</strong></a> and published by <a href=\"https://loja.uiclap.com/titulo/ua24032/\"><strong>UICLAP</strong></a></span>. <br>\n",
    "\n",
    "<span style='font-size:20px'>Those books inspired me to learn more and more about Data Science.</span>\n",
    "<br>"
   ]
  },
  {
   "cell_type": "markdown",
   "id": "64196d35-e9a9-4b33-a500-b08ee4daf333",
   "metadata": {},
   "source": [
    "<br>\n",
    "\n",
    "<span style='font-size:20px'>As said in the title of this Notebook, we will be using the MNIST dataset, which is a set of 70,000 small images of digits handwritten by high school students and employees of the <a href=\"https://www.census.gov/\"><strong>US Census Bureau</strong></a>. Each image is labeled with the digit it represents.<br><br>\n",
    "    This set has been studied so much that it is often called the “hello world” of Machine Learning: whenever people come up with a new classification algorithm they are curious to see how it will perform on MNIST, and anyone who learns Machine Learning tackles this dataset sooner or later.</span>"
   ]
  },
  {
   "cell_type": "code",
   "execution_count": null,
   "id": "f4d7dade-bb95-40cd-9288-8f1e47907934",
   "metadata": {},
   "outputs": [],
   "source": []
  }
 ],
 "metadata": {
  "kernelspec": {
   "display_name": "Python 3 (ipykernel)",
   "language": "python",
   "name": "python3"
  },
  "language_info": {
   "codemirror_mode": {
    "name": "ipython",
    "version": 3
   },
   "file_extension": ".py",
   "mimetype": "text/x-python",
   "name": "python",
   "nbconvert_exporter": "python",
   "pygments_lexer": "ipython3",
   "version": "3.10.9"
  }
 },
 "nbformat": 4,
 "nbformat_minor": 5
}
