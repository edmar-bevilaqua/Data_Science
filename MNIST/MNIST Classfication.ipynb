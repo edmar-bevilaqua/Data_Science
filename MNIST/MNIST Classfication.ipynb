{
 "cells": [
  {
   "cell_type": "markdown",
   "id": "0cc5ae65-6559-477d-b220-b0acf819f809",
   "metadata": {},
   "source": [
    "<span style='font-size:20px'>\n",
    "\n",
    "# Using Classification Algorithms to Solve the MNIST Handwritten Numbers dataset\n",
    "\n",
    "</span>\n",
    "\n",
    "---\n",
    "\n",
    "<span style='font-size:22px'>This code was written by **Edmar Junyor Bevilaqua**, if you want to know a little more about me, feel free to visit my social media:</span>\n",
    "* <a href=\"https://www.linkedin.com/in/edmar-bevilaqua/\"><span style='font-size:22px'>LinkedIn</span></a>\n",
    "* <a href=\"https://github.com/edmar-bevilaqua\"><span style='font-size:22px'>GitHub</span></a>\n",
    "* <a href=\"https://www.instagram.com/edmar_bevilaqua/\"><span style='font-size:22px'>Instagram</span></a>\n",
    "\n",
    "---"
   ]
  },
  {
   "cell_type": "markdown",
   "id": "52fb667b-9b88-46c5-83ac-490c473850c5",
   "metadata": {
    "tags": []
   },
   "source": [
    "<span style='font-size:25px'><strong>Note:</strong></span><br>\n",
    "<span style='font-size:20px'>Most of the content you will see in this repository is based on projects I developed while learning Data Science, so if you want a more detailed and technical content, you can check the following books that I used to learn:</span><br>\n",
    "* <span style='font-size:20px'><i>\"Hands-On Machine Learning with Scikit-Learn, Keras &amp; TensorFlow\"</i>, written by <a href=\"https://github.com/ageron\"><strong>Aurélien Géron</strong></a> and published by <a href=\"https://www.oreilly.com/\"><strong>O'Reilly</strong></a></span>. <br><br>\n",
    "* <span style='font-size:20px'><i>\"Python for Data Analysis: Data Wrangling with Pandas, Numpy, and Jupyter\"</i>, written by <a href=\"https://github.com/wesm\"><strong>Wes McKinney</strong></a> and published by <a href=\"https://www.oreilly.com/\"><strong>O'Reilly</strong></a></span>. <br><br>\n",
    "* <span style='font-size:20px'><i>\"Aprendizado de Máquina - Uma Abordagem Estatística\"</i>, written by <a href=\"https://github.com/rizbicki\"><strong>Rafael Izbicki</strong></a> and <a href=\"https://tiagoms.com/\"><strong>Tiago Mendonça dos Santos</strong></a> and published by <a href=\"https://loja.uiclap.com/titulo/ua24032/\"><strong>UICLAP</strong></a></span>. <br>\n",
    "\n",
    "<span style='font-size:20px'>Those books inspired me to learn more and more about Data Science.</span>\n",
    "<br>"
   ]
  },
  {
   "cell_type": "markdown",
   "id": "64196d35-e9a9-4b33-a500-b08ee4daf333",
   "metadata": {},
   "source": [
    "<br>\n",
    "\n",
    "<span style='font-size:20px'>As said in the title of this Notebook, we will be using the MNIST dataset, which is a set of 70,000 small images of digits handwritten by high school students and employees of the <a href=\"https://www.census.gov/\"><strong>US Census Bureau</strong></a>. Each image is labeled with the digit it represents.<br><br>\n",
    "    This set has been studied so much that it is often called the “hello world” of Machine Learning: whenever people come up with a new classification algorithm they are curious to see how it will perform on MNIST, and anyone who learns Machine Learning tackles this dataset sooner or later.</span>"
   ]
  },
  {
   "cell_type": "markdown",
   "id": "f2c6968b-4410-465b-a62e-4c29190fcbc2",
   "metadata": {},
   "source": [
    "# Importing the Dataset\n",
    "---\n",
    "<span style='font-size:20px'>This dataset is so famous that it is available inside the Scikit-Learn library:</span>"
   ]
  },
  {
   "cell_type": "code",
   "execution_count": 1,
   "id": "3f45d812-4372-4205-ab89-f2c8ec92a0ff",
   "metadata": {},
   "outputs": [
    {
     "data": {
      "text/plain": [
       "dict_keys(['data', 'target', 'frame', 'categories', 'feature_names', 'target_names', 'DESCR', 'details', 'url'])"
      ]
     },
     "execution_count": 1,
     "metadata": {},
     "output_type": "execute_result"
    }
   ],
   "source": [
    "from sklearn.datasets import fetch_openml\n",
    "\n",
    "mnist = fetch_openml('mnist_784', version=1, parser='auto', as_frame=False) # The _784 is because this dataset is composed of 784 features (28 x 28 = 784 pixels images).\n",
    "mnist.keys() # By default Scikit-Learn caches downloaded datasets in a directory called $HOME/scikit_learn_data."
   ]
  },
  {
   "cell_type": "markdown",
   "id": "108697cf-c5b2-4e8f-9b6a-b4738aa385c3",
   "metadata": {},
   "source": [
    "<br>\n",
    "<span style='font-size:25px'><strong>Note:</strong></span>\n",
    "\n",
    "<br>\n",
    "\n",
    "<span style='font-size:20px'>Datasets loaded by Scikit-Learn generally have a similar dictionary structure, including the following:</span>\n",
    "<br>\n",
    "* <span style='font-size:20px'>A DESCR key describing the dataset;</span>\n",
    "\n",
    "* <span style='font-size:20px'>A data key containing an array with one row per instance and one column per feature;</span>\n",
    "\n",
    "* <span style='font-size:20px'>A target key containing an array with the labels.</span>\n",
    "\n",
    "<br>"
   ]
  },
  {
   "cell_type": "code",
   "execution_count": 2,
   "id": "cc87db6c-6976-406d-872c-3207ba849ec3",
   "metadata": {},
   "outputs": [
    {
     "name": "stdout",
     "output_type": "stream",
     "text": [
      "**Author**: Yann LeCun, Corinna Cortes, Christopher J.C. Burges  \n",
      "**Source**: [MNIST Website](http://yann.lecun.com/exdb/mnist/) - Date unknown  \n",
      "**Please cite**:  \n",
      "\n",
      "The MNIST database of handwritten digits with 784 features, raw data available at: http://yann.lecun.com/exdb/mnist/. It can be split in a training set of the first 60,000 examples, and a test set of 10,000 examples  \n",
      "\n",
      "It is a subset of a larger set available from NIST. The digits have been size-normalized and centered in a fixed-size image. It is a good database for people who want to try learning techniques and pattern recognition methods on real-world data while spending minimal efforts on preprocessing and formatting. The original black and white (bilevel) images from NIST were size normalized to fit in a 20x20 pixel box while preserving their aspect ratio. The resulting images contain grey levels as a result of the anti-aliasing technique used by the normalization algorithm. the images were centered in a 28x28 image by computing the center of mass of the pixels, and translating the image so as to position this point at the center of the 28x28 field.  \n",
      "\n",
      "With some classification methods (particularly template-based methods, such as SVM and K-nearest neighbors), the error rate improves when the digits are centered by bounding box rather than center of mass. If you do this kind of pre-processing, you should report it in your publications. The MNIST database was constructed from NIST's NIST originally designated SD-3 as their training set and SD-1 as their test set. However, SD-3 is much cleaner and easier to recognize than SD-1. The reason for this can be found on the fact that SD-3 was collected among Census Bureau employees, while SD-1 was collected among high-school students. Drawing sensible conclusions from learning experiments requires that the result be independent of the choice of training set and test among the complete set of samples. Therefore it was necessary to build a new database by mixing NIST's datasets.  \n",
      "\n",
      "The MNIST training set is composed of 30,000 patterns from SD-3 and 30,000 patterns from SD-1. Our test set was composed of 5,000 patterns from SD-3 and 5,000 patterns from SD-1. The 60,000 pattern training set contained examples from approximately 250 writers. We made sure that the sets of writers of the training set and test set were disjoint. SD-1 contains 58,527 digit images written by 500 different writers. In contrast to SD-3, where blocks of data from each writer appeared in sequence, the data in SD-1 is scrambled. Writer identities for SD-1 is available and we used this information to unscramble the writers. We then split SD-1 in two: characters written by the first 250 writers went into our new training set. The remaining 250 writers were placed in our test set. Thus we had two sets with nearly 30,000 examples each. The new training set was completed with enough examples from SD-3, starting at pattern # 0, to make a full set of 60,000 training patterns. Similarly, the new test set was completed with SD-3 examples starting at pattern # 35,000 to make a full set with 60,000 test patterns. Only a subset of 10,000 test images (5,000 from SD-1 and 5,000 from SD-3) is available on this site. The full 60,000 sample training set is available.\n",
      "\n",
      "Downloaded from openml.org.\n"
     ]
    }
   ],
   "source": [
    "print(mnist.DESCR) # Note from the creators:"
   ]
  },
  {
   "cell_type": "code",
   "execution_count": 3,
   "id": "8ba6ebb4-58e5-4873-a9f9-0f11995c4fde",
   "metadata": {},
   "outputs": [
    {
     "name": "stdout",
     "output_type": "stream",
     "text": [
      "(70000, 784)\n",
      "(70000,)\n"
     ]
    }
   ],
   "source": [
    "X = mnist['data']\n",
    "y = mnist['target']\n",
    "\n",
    "print(X.shape)\n",
    "print(y.shape)"
   ]
  },
  {
   "cell_type": "markdown",
   "id": "a1d23c08-cc74-4a0b-a09d-7e578fce4274",
   "metadata": {},
   "source": [
    "<br>\n",
    "\n",
    "<span style='font-size:20px'>\n",
    "    There are 70,000 images in this dataset, each containing 784 features.<br>\n",
    "    This is because each image is 28 × 28 pixels, and each feature simply represents one pixel’s intensity, from 0 (white) to 255 (black). Let’s take a peek at one digit from the dataset. All you need to do is grab an instance’s feature vector, reshape it to a 28 × 28 array, and display it using Matplotlib’s imshow() function:\n",
    "</span><br><br>"
   ]
  },
  {
   "cell_type": "code",
   "execution_count": 4,
   "id": "321ea53c-4169-45b1-a3f0-9ab3bc99fd64",
   "metadata": {},
   "outputs": [
    {
     "data": {
      "image/png": "[encoded data removed]",
      "text/plain": [
       "<Figure size 640x480 with 1 Axes>"
      ]
     },
     "metadata": {},
     "output_type": "display_data"
    },
    {
     "name": "stdout",
     "output_type": "stream",
     "text": [
      "Target Value: 4\n"
     ]
    }
   ],
   "source": [
    "import matplotlib as mpl\n",
    "import matplotlib.pyplot as plt\n",
    "import numpy as np\n",
    "\n",
    "def plot_digit(image_data):\n",
    "    image = image_data.reshape(28, 28)\n",
    "    plt.imshow(image, cmap=\"binary\")\n",
    "    plt.axis(\"off\")\n",
    "\n",
    "digit_number = np.random.randint(low=0, high=70000)\n",
    "digit = X[digit_number]\n",
    "plot_digit(digit)\n",
    "plt.show()\n",
    "print(f'Target Value: {y[digit_number]}')"
   ]
  },
  {
   "cell_type": "code",
   "execution_count": 5,
   "id": "3fe4bf3b-fdb3-4b4e-9aa4-9efbc82abf67",
   "metadata": {},
   "outputs": [
    {
     "name": "stdout",
     "output_type": "stream",
     "text": [
      "Type of target value: <class 'str'>\n"
     ]
    }
   ],
   "source": [
    "print(f'Type of target value: {type(y[0])}') # Most ML expect numbers, so lets change the type of our target array.\n",
    "\n",
    "y = y.astype(np.uint8)"
   ]
  },
  {
   "cell_type": "markdown",
   "id": "f0e31790-f32f-4796-95ed-83370b92bdd9",
   "metadata": {},
   "source": [
    "\n",
    "---\n",
    "\n",
    "<span style='font-size:25px'>\n",
    "    Ploting a quick view of the first 25 digits in our dataset to demonstrate the complexity:\n",
    "</span>\n",
    "\n",
    "---\n",
    "<br>"
   ]
  },
  {
   "cell_type": "code",
   "execution_count": 6,
   "id": "af935b0b-ea39-41f5-a023-108ebf4f0ea6",
   "metadata": {},
   "outputs": [
    {
     "data": {
      "image/png": "[encoded data removed]",
      "text/plain": [
       "<Figure size 800x800 with 25 Axes>"
      ]
     },
     "metadata": {},
     "output_type": "display_data"
    }
   ],
   "source": [
    "plt.figure(figsize=(8, 8))\n",
    "for idx, image_data in enumerate(X[:25]):\n",
    "    plt.subplot(5, 5, idx + 1)\n",
    "    plot_digit(image_data)\n",
    "plt.subplots_adjust(wspace=0, hspace=0)\n",
    "plt.show()"
   ]
  },
  {
   "cell_type": "markdown",
   "id": "b9245ae4-cf50-4021-8c8d-c0fe8798e8c3",
   "metadata": {},
   "source": [
    "<span style='font-size:25px'>\n",
    "    \n",
    "# Splitting the set into Train and Test:\n",
    "    \n",
    "</span>\n",
    "\n",
    "---\n",
    "\n",
    "<span style='font-size:20px'>\n",
    "    Hopefully, as we imported this set from Scikit-Learn library, it is already splitted:<br>\n",
    "    The first 60,000 rows are for the training set, and the last 10,000 rows are for the test set.<br>\n",
    "    Don't worry, the data is already shuffled and the test set is representative (contains approximately the same amount of each digit).\n",
    "</span>\n",
    "<br><br>"
   ]
  },
  {
   "cell_type": "code",
   "execution_count": 7,
   "id": "29fde13b-e940-450a-8c7a-85d747dea101",
   "metadata": {},
   "outputs": [],
   "source": [
    "X_train, X_test, y_train, y_test = X[:60000], X[60000:], y[:60000], y[60000:]\n",
    "\n",
    "# Because some of the algorithms are very costly to proccess, we can reduce this dataset\n",
    "# X_train, X_test, y_train, y_test = X[50000:60000], X[60000:63000], y[50000:60000], y[60000:63000]"
   ]
  },
  {
   "cell_type": "markdown",
   "id": "fe58187a-5eed-4cc1-b61e-5b1efd9a31f8",
   "metadata": {},
   "source": [
    "<span style='font-size:22px'>\n",
    "    \n",
    "## Starting with a very simple classifier\n",
    "    \n",
    "</span>\n",
    "\n",
    "---\n",
    "\n",
    "<span style='font-size:20px'>\n",
    "    To keep it simple in the beggining of our notebook, let's choose a number (in this case my favorite number: <strong>7</strong> )<br>\n",
    "    Lets call this the \"<i>Ultra 7 Detector Machine</i>\"\n",
    "</span>\n",
    "<br><br>"
   ]
  },
  {
   "cell_type": "code",
   "execution_count": 8,
   "id": "ef0fb379-c429-4a26-815e-483672536ddb",
   "metadata": {},
   "outputs": [],
   "source": [
    "# Code adaptation to consider only the target = 7 as True.\n",
    "\n",
    "y_train_7 = (y_train == 7)\n",
    "y_test_7 = (y_test == 7)"
   ]
  },
  {
   "cell_type": "code",
   "execution_count": 9,
   "id": "5ba65b3b-b3af-4e5a-932f-fddf8a792ebc",
   "metadata": {},
   "outputs": [
    {
     "data": {
      "text/html": [
       "<style>#sk-container-id-1 {color: black;background-color: white;}#sk-container-id-1 pre{padding: 0;}#sk-container-id-1 div.sk-toggleable {background-color: white;}#sk-container-id-1 label.sk-toggleable__label {cursor: pointer;display: block;width: 100%;margin-bottom: 0;padding: 0.3em;box-sizing: border-box;text-align: center;}#sk-container-id-1 label.sk-toggleable__label-arrow:before {content: \"▸\";float: left;margin-right: 0.25em;color: #696969;}#sk-container-id-1 label.sk-toggleable__label-arrow:hover:before {color: black;}#sk-container-id-1 div.sk-estimator:hover label.sk-toggleable__label-arrow:before {color: black;}#sk-container-id-1 div.sk-toggleable__content {max-height: 0;max-width: 0;overflow: hidden;text-align: left;background-color: #f0f8ff;}#sk-container-id-1 div.sk-toggleable__content pre {margin: 0.2em;color: black;border-radius: 0.25em;background-color: #f0f8ff;}#sk-container-id-1 input.sk-toggleable__control:checked~div.sk-toggleable__content {max-height: 200px;max-width: 100%;overflow: auto;}#sk-container-id-1 input.sk-toggleable__control:checked~label.sk-toggleable__label-arrow:before {content: \"▾\";}#sk-container-id-1 div.sk-estimator input.sk-toggleable__control:checked~label.sk-toggleable__label {background-color: #d4ebff;}#sk-container-id-1 div.sk-label input.sk-toggleable__control:checked~label.sk-toggleable__label {background-color: #d4ebff;}#sk-container-id-1 input.sk-hidden--visually {border: 0;clip: rect(1px 1px 1px 1px);clip: rect(1px, 1px, 1px, 1px);height: 1px;margin: -1px;overflow: hidden;padding: 0;position: absolute;width: 1px;}#sk-container-id-1 div.sk-estimator {font-family: monospace;background-color: #f0f8ff;border: 1px dotted black;border-radius: 0.25em;box-sizing: border-box;margin-bottom: 0.5em;}#sk-container-id-1 div.sk-estimator:hover {background-color: #d4ebff;}#sk-container-id-1 div.sk-parallel-item::after {content: \"\";width: 100%;border-bottom: 1px solid gray;flex-grow: 1;}#sk-container-id-1 div.sk-label:hover label.sk-toggleable__label {background-color: #d4ebff;}#sk-container-id-1 div.sk-serial::before {content: \"\";position: absolute;border-left: 1px solid gray;box-sizing: border-box;top: 0;bottom: 0;left: 50%;z-index: 0;}#sk-container-id-1 div.sk-serial {display: flex;flex-direction: column;align-items: center;background-color: white;padding-right: 0.2em;padding-left: 0.2em;position: relative;}#sk-container-id-1 div.sk-item {position: relative;z-index: 1;}#sk-container-id-1 div.sk-parallel {display: flex;align-items: stretch;justify-content: center;background-color: white;position: relative;}#sk-container-id-1 div.sk-item::before, #sk-container-id-1 div.sk-parallel-item::before {content: \"\";position: absolute;border-left: 1px solid gray;box-sizing: border-box;top: 0;bottom: 0;left: 50%;z-index: -1;}#sk-container-id-1 div.sk-parallel-item {display: flex;flex-direction: column;z-index: 1;position: relative;background-color: white;}#sk-container-id-1 div.sk-parallel-item:first-child::after {align-self: flex-end;width: 50%;}#sk-container-id-1 div.sk-parallel-item:last-child::after {align-self: flex-start;width: 50%;}#sk-container-id-1 div.sk-parallel-item:only-child::after {width: 0;}#sk-container-id-1 div.sk-dashed-wrapped {border: 1px dashed gray;margin: 0 0.4em 0.5em 0.4em;box-sizing: border-box;padding-bottom: 0.4em;background-color: white;}#sk-container-id-1 div.sk-label label {font-family: monospace;font-weight: bold;display: inline-block;line-height: 1.2em;}#sk-container-id-1 div.sk-label-container {text-align: center;}#sk-container-id-1 div.sk-container {/* jupyter's `normalize.less` sets `[hidden] { display: none; }` but bootstrap.min.css set `[hidden] { display: none !important; }` so we also need the `!important` here to be able to override the default hidden behavior on the sphinx rendered scikit-learn.org. See: https://github.com/scikit-learn/scikit-learn/issues/21755 */display: inline-block !important;position: relative;}#sk-container-id-1 div.sk-text-repr-fallback {display: none;}</style><div id=\"sk-container-id-1\" class=\"sk-top-container\"><div class=\"sk-text-repr-fallback\"><pre>SGDClassifier(random_state=101)</pre><b>In a Jupyter environment, please rerun this cell to show the HTML representation or trust the notebook. <br />On GitHub, the HTML representation is unable to render, please try loading this page with nbviewer.org.</b></div><div class=\"sk-container\" hidden><div class=\"sk-item\"><div class=\"sk-estimator sk-toggleable\"><input class=\"sk-toggleable__control sk-hidden--visually\" id=\"sk-estimator-id-1\" type=\"checkbox\" checked><label for=\"sk-estimator-id-1\" class=\"sk-toggleable__label sk-toggleable__label-arrow\">SGDClassifier</label><div class=\"sk-toggleable__content\"><pre>SGDClassifier(random_state=101)</pre></div></div></div></div></div>"
      ],
      "text/plain": [
       "SGDClassifier(random_state=101)"
      ]
     },
     "execution_count": 9,
     "metadata": {},
     "output_type": "execute_result"
    }
   ],
   "source": [
    "from sklearn.linear_model import SGDClassifier # SGD stands for \"Stocastic Gradient Descent\", which is a type for the loss function\n",
    "\n",
    "model_sgd = SGDClassifier(random_state=101)\n",
    "model_sgd.fit(X_train, y_train_7)"
   ]
  },
  {
   "cell_type": "markdown",
   "id": "f77a8f5b-ad2b-4723-90e8-c646788c4281",
   "metadata": {},
   "source": [
    "<br>\n",
    "\n",
    "---\n",
    "\n",
    "<span style='font-size:20px'>\n",
    "    Let's see how is his performance:\n",
    "</span>\n",
    "\n",
    "---\n",
    "\n",
    "<br>"
   ]
  },
  {
   "cell_type": "code",
   "execution_count": 10,
   "id": "6d9e7b70-c334-4b43-831b-1339305dc4e0",
   "metadata": {},
   "outputs": [
    {
     "data": {
      "image/png": "[encoded data removed]",
      "text/plain": [
       "<Figure size 50x50 with 1 Axes>"
      ]
     },
     "metadata": {},
     "output_type": "display_data"
    },
    {
     "name": "stdout",
     "output_type": "stream",
     "text": [
      "[False]\n",
      "\n"
     ]
    },
    {
     "data": {
      "image/png": "[encoded data removed]",
      "text/plain": [
       "<Figure size 50x50 with 1 Axes>"
      ]
     },
     "metadata": {},
     "output_type": "display_data"
    },
    {
     "name": "stdout",
     "output_type": "stream",
     "text": [
      "[False]\n",
      "\n"
     ]
    },
    {
     "data": {
      "image/png": "[encoded data removed]",
      "text/plain": [
       "<Figure size 50x50 with 1 Axes>"
      ]
     },
     "metadata": {},
     "output_type": "display_data"
    },
    {
     "name": "stdout",
     "output_type": "stream",
     "text": [
      "[False]\n",
      "\n"
     ]
    },
    {
     "data": {
      "image/png": "[encoded data removed]",
      "text/plain": [
       "<Figure size 50x50 with 1 Axes>"
      ]
     },
     "metadata": {},
     "output_type": "display_data"
    },
    {
     "name": "stdout",
     "output_type": "stream",
     "text": [
      "[False]\n",
      "\n"
     ]
    },
    {
     "data": {
      "image/png": "[encoded data removed]",
      "text/plain": [
       "<Figure size 50x50 with 1 Axes>"
      ]
     },
     "metadata": {},
     "output_type": "display_data"
    },
    {
     "name": "stdout",
     "output_type": "stream",
     "text": [
      "[False]\n",
      "\n"
     ]
    },
    {
     "data": {
      "image/png": "[encoded data removed]",
      "text/plain": [
       "<Figure size 50x50 with 1 Axes>"
      ]
     },
     "metadata": {},
     "output_type": "display_data"
    },
    {
     "name": "stdout",
     "output_type": "stream",
     "text": [
      "[ True]\n",
      "\n"
     ]
    },
    {
     "data": {
      "image/png": "[encoded data removed]",
      "text/plain": [
       "<Figure size 50x50 with 1 Axes>"
      ]
     },
     "metadata": {},
     "output_type": "display_data"
    },
    {
     "name": "stdout",
     "output_type": "stream",
     "text": [
      "[False]\n",
      "\n"
     ]
    },
    {
     "data": {
      "image/png": "[encoded data removed]",
      "text/plain": [
       "<Figure size 50x50 with 1 Axes>"
      ]
     },
     "metadata": {},
     "output_type": "display_data"
    },
    {
     "name": "stdout",
     "output_type": "stream",
     "text": [
      "[False]\n",
      "\n"
     ]
    },
    {
     "data": {
      "image/png": "[encoded data removed]",
      "text/plain": [
       "<Figure size 50x50 with 1 Axes>"
      ]
     },
     "metadata": {},
     "output_type": "display_data"
    },
    {
     "name": "stdout",
     "output_type": "stream",
     "text": [
      "[False]\n",
      "\n"
     ]
    },
    {
     "data": {
      "image/png": "[encoded data removed]",
      "text/plain": [
       "<Figure size 50x50 with 1 Axes>"
      ]
     },
     "metadata": {},
     "output_type": "display_data"
    },
    {
     "name": "stdout",
     "output_type": "stream",
     "text": [
      "[ True]\n",
      "\n"
     ]
    }
   ],
   "source": [
    "for i in range(10, 20, 1):\n",
    "    digit = X[i]\n",
    "    plt.figure(figsize=(0.5,0.5))\n",
    "    plot_digit(digit)\n",
    "    plt.show()\n",
    "    print(model_sgd.predict(digit.reshape(1,-1)), end='\\n\\n')"
   ]
  },
  {
   "cell_type": "markdown",
   "id": "2554fdeb-b5c2-4e76-8e03-89da5c2589c7",
   "metadata": {},
   "source": [
    "<br>\n",
    "\n",
    "<span style='font-size:20px'>\n",
    "    As we can see in the above output, the model said that the only number 7 plotted was True, which is correct, but the model also detected the last plot (number 9) as True, which is an error!\n",
    "</span>\n",
    "<br>\n",
    "<br>"
   ]
  },
  {
   "cell_type": "markdown",
   "id": "9987a119-1a0b-4802-9242-afef61c8d6bb",
   "metadata": {},
   "source": [
    "<span style='font-size:25px'>\n",
    "\n",
    "# Measuring the Performance of Classification Models\n",
    "    \n",
    "</span>\n",
    "\n",
    "---\n",
    "\n",
    "<span style='font-size:20px'>\n",
    "    Evaluating a classifier is often significantly trickier than evaluating a regressor, so we will spend some time on this topic. There are many performance measures available, let's discuss about some new concepts and acronyms!\n",
    "</span>\n",
    "<br>\n",
    "<br>\n",
    "<br>"
   ]
  },
  {
   "cell_type": "markdown",
   "id": "1ac17e8f-085e-4bcd-aee2-190b8bb8c5d8",
   "metadata": {},
   "source": [
    "<span style='font-size:20px'>\n",
    "\n",
    "## Measuring Accuracy Using Cross-Validation\n",
    "    \n",
    "</span>\n",
    "\n",
    "---\n",
    "\n",
    "<span style='font-size:20px'>\n",
    "    We can use the Scikit-Learn cross-validation\n",
    "</span>\n",
    "<br>\n",
    "<br>"
   ]
  },
  {
   "cell_type": "code",
   "execution_count": 11,
   "id": "0d987778-48d7-44bf-aabb-4d7b08e28910",
   "metadata": {},
   "outputs": [
    {
     "data": {
      "text/plain": [
       "array([0.9761, 0.9785, 0.9758])"
      ]
     },
     "execution_count": 11,
     "metadata": {},
     "output_type": "execute_result"
    }
   ],
   "source": [
    "from sklearn.model_selection import cross_val_score\n",
    "\n",
    "cross_val_score(model_sgd, X_train, y_train_7, cv=3, scoring='accuracy')"
   ]
  },
  {
   "cell_type": "markdown",
   "id": "b18cbe98-52f3-4e42-87d7-cfbc6d956e98",
   "metadata": {},
   "source": [
    "<br>\n",
    "<span style='font-size:20px'>\n",
    "    Nice, all the 3 folds from Cross-validadtion was at least 97% accuracy, thas very good right?<br>\n",
    "    Well, it depends. Let's try something different. Let's create a model that always say that the number is not 7 (The classifier returns False for everything!)\n",
    "</span>\n",
    "<br>\n",
    "<br>"
   ]
  },
  {
   "cell_type": "code",
   "execution_count": 12,
   "id": "a58d6804-d80d-4cc2-80ed-e82c3de956f2",
   "metadata": {},
   "outputs": [],
   "source": [
    "from sklearn.base import BaseEstimator\n",
    "\n",
    "class Never7Classifier(BaseEstimator): # This class doesn't need the __init__ method because it don't have any hyperparameter\n",
    "    def fit(self, X, y=None): # y=None for compatibility\n",
    "        return self # The model does nothing!\n",
    "    \n",
    "    def predict(self, X):\n",
    "        return np.zeros((len(X), 1), dtype=bool) # The model returns 0 for all predictions of X!"
   ]
  },
  {
   "cell_type": "code",
   "execution_count": 13,
   "id": "fefdd91d-185d-4c22-abd6-7bf22a7f6d6b",
   "metadata": {},
   "outputs": [
    {
     "data": {
      "text/plain": [
       "array([0.89535, 0.8984 , 0.893  ])"
      ]
     },
     "execution_count": 13,
     "metadata": {},
     "output_type": "execute_result"
    }
   ],
   "source": [
    "never_7 = Never7Classifier()\n",
    "cross_val_score(never_7, X_train, y_train_7, cv=3, scoring='accuracy')"
   ]
  },
  {
   "cell_type": "markdown",
   "id": "6ad105d7-a3b6-44cd-ab0b-77bde7c66f3e",
   "metadata": {},
   "source": [
    "<br>\n",
    "<span style='font-size:20px'>\n",
    "    Hummmmmm, that's quite interesting, isn't it?<br>\n",
    "    Even the dumbest of the models (always return False) get's at least 89% accuracy. This is simply because only about 10% of the images are 7s, so if you always guess that an image is not a 7, you will be right about 90% of the time.<br>\n",
    "    This demonstrates why accuracy is generally not the preferred performance measure for classifiers, especially when you are dealing with skewed datasets (i.e., when some classes are much more frequent than others - In our case: 90% aren't a 7s and only 10% are 7s).\n",
    "</span>\n",
    "<br>\n",
    "<br>"
   ]
  },
  {
   "cell_type": "markdown",
   "id": "ebd7bb1a-b4b4-464d-bf5a-a10a696ba0fa",
   "metadata": {},
   "source": [
    "<span style='font-size:20px'>\n",
    "\n",
    "## Confusion Matrix\n",
    "    \n",
    "</span>\n",
    "\n",
    "---\n",
    "\n",
    "<span style='font-size:20px'>\n",
    "    A much better way to evaluate the performance of a classifier is to look at the confusion matrix.<br>The general idea is to count the number of times instances of class A were classified as class A or something else. For example, to know the number of times the classifier got it right or got confused.\n",
    "</span>\n",
    "<br>\n",
    "<br>"
   ]
  },
  {
   "cell_type": "code",
   "execution_count": 14,
   "id": "adc8ae1e-7358-46e6-bf8e-a4b050f45637",
   "metadata": {},
   "outputs": [],
   "source": [
    "from sklearn.model_selection import cross_val_predict # This method returns the predictions made on each test fold\n",
    "\n",
    "y_train_predictions = cross_val_predict(model_sgd, X_train, y_train_7, cv=3)"
   ]
  },
  {
   "cell_type": "code",
   "execution_count": 15,
   "id": "2a65dad2-46a4-4e08-8550-9f0060d230fe",
   "metadata": {},
   "outputs": [
    {
     "data": {
      "text/plain": [
       "<sklearn.metrics._plot.confusion_matrix.ConfusionMatrixDisplay at 0x1e60004d690>"
      ]
     },
     "execution_count": 15,
     "metadata": {},
     "output_type": "execute_result"
    },
    {
     "data": {
      "image/png": "[encoded data removed]",
      "text/plain": [
       "<Figure size 640x480 with 2 Axes>"
      ]
     },
     "metadata": {},
     "output_type": "display_data"
    }
   ],
   "source": [
    "from sklearn.metrics import confusion_matrix, ConfusionMatrixDisplay\n",
    "\n",
    "conf_matrix = confusion_matrix(y_train_7, y_train_predictions)\n",
    "ConfusionMatrixDisplay(conf_matrix).plot()"
   ]
  },
  {
   "cell_type": "markdown",
   "id": "a2bc3e08-c8dd-4b8d-85c7-286c2f30fc54",
   "metadata": {},
   "source": [
    "<br>\n",
    "<span style='font-size:20px'>\n",
    "    Each row in a confusion matrix represents an actual class, while each column represents a predicted class.<br>\n",
    "    The first row of this matrix considers non-7 images (the negative class): 53,337 of them were correctly classified as non-7s (they are called True Negatives - TN), while the remaining 398 were wrongly classified as 7s (False Positives - FP).<br> The second row considers the images of 7s (the positive class): 994 were wrongly classified as non-7s (False Negatives - FN), while the remaining 5,271 were correctly classified as 7s (True Positives - TP). A perfect classifier would have only true positives and true negatives, so its confusion matrix would have nonzero values only on its main diagonal (top left to bottom right):\n",
    "</span>\n",
    "<br>\n",
    "<br>"
   ]
  },
  {
   "cell_type": "markdown",
   "id": "c2e9c188-84f0-4d11-93f0-caa72bf6f213",
   "metadata": {},
   "source": [
    "<br>\n",
    "\n",
    "---\n",
    "\n",
    "<span style='font-size:20px'>\n",
    "    Simulating a perfect classifier:\n",
    "</span>\n",
    "\n",
    "---\n",
    "\n",
    "<br>"
   ]
  },
  {
   "cell_type": "code",
   "execution_count": 16,
   "id": "b3b453e3-bc0f-4b89-a837-e5ae5bad43e2",
   "metadata": {},
   "outputs": [
    {
     "data": {
      "image/png": "[encoded data removed]",
      "text/plain": [
       "<Figure size 640x480 with 2 Axes>"
      ]
     },
     "metadata": {},
     "output_type": "display_data"
    }
   ],
   "source": [
    "conf_matrix = confusion_matrix(y_train_7, y_train_7) # Pretending that both the prediction and the true label are equal!\n",
    "ConfusionMatrixDisplay(conf_matrix).plot()\n",
    "plt.show()"
   ]
  },
  {
   "cell_type": "markdown",
   "id": "cfa70835-caf2-4464-860c-928860470d1d",
   "metadata": {},
   "source": [
    "<span style='font-size:20px'>\n",
    "\n",
    "### Precision\n",
    "    \n",
    "</span>\n",
    "\n",
    "---\n",
    "\n",
    "<span style='font-size:20px'>\n",
    "    Precision is the accuracy of the positive predictions from the classifier<br>\n",
    "    It is defined by: Precision = TP / (TP + FP)\n",
    "</span>\n",
    "<br>\n",
    "<br>\n"
   ]
  },
  {
   "cell_type": "code",
   "execution_count": 17,
   "id": "935852d4-3fda-4c26-9d83-dcf008021e80",
   "metadata": {},
   "outputs": [
    {
     "name": "stdout",
     "output_type": "stream",
     "text": [
      "0.929793614394073\n"
     ]
    }
   ],
   "source": [
    "conf_matrix = confusion_matrix(y_train_7, y_train_predictions)\n",
    "precision = conf_matrix[1][1] / (conf_matrix[1][1] + conf_matrix[0][1])\n",
    "print(precision)"
   ]
  },
  {
   "cell_type": "markdown",
   "id": "70a868b2-4b89-4d46-9530-542413261ce8",
   "metadata": {},
   "source": [
    "<br>\n",
    "<br>\n",
    "<span style='font-size:20px'>\n",
    "\n",
    "### Recall\n",
    "    \n",
    "</span>\n",
    "\n",
    "---\n",
    "\n",
    "<span style='font-size:20px'>\n",
    "    Also called <i>sensitivity</i> or the True Positive Rate (TPR): this is the ratio of positive instances that are correctly detected by the classifier<br>\n",
    "    It is defined by: Recall = TP / (TP + FN)\n",
    "</span>\n",
    "<br>\n",
    "<br>\n"
   ]
  },
  {
   "cell_type": "code",
   "execution_count": 18,
   "id": "35f61d4f-9d6d-4f99-b57c-16cf6bec6e03",
   "metadata": {},
   "outputs": [
    {
     "name": "stdout",
     "output_type": "stream",
     "text": [
      "0.841340782122905\n"
     ]
    }
   ],
   "source": [
    "conf_matrix = confusion_matrix(y_train_7, y_train_predictions)\n",
    "recall = conf_matrix[1][1] / (conf_matrix[1][1] + conf_matrix[1][0])\n",
    "print(recall)"
   ]
  },
  {
   "cell_type": "markdown",
   "id": "4f3c9388-667a-4002-8580-0cb73794ec85",
   "metadata": {},
   "source": [
    "<br>\n",
    "\n",
    "<span style='font-size:20px'>\n",
    "    Scikit-Learn has methods to rapidly calculate these metrics:\n",
    "</span>\n",
    "<br>\n",
    "<br>\n"
   ]
  },
  {
   "cell_type": "code",
   "execution_count": 19,
   "id": "59d7de85-0656-47b2-aedf-556fe9026d14",
   "metadata": {},
   "outputs": [
    {
     "name": "stdout",
     "output_type": "stream",
     "text": [
      "Precision: 0.929793614394073\n",
      "Recall: 0.841340782122905\n"
     ]
    }
   ],
   "source": [
    "from sklearn.metrics import precision_score, recall_score\n",
    "\n",
    "print(f'Precision: {precision_score(y_train_7, y_train_predictions)}')\n",
    "print(f'Recall: {recall_score(y_train_7, y_train_predictions)}')"
   ]
  },
  {
   "cell_type": "markdown",
   "id": "2955852b-9388-4b01-8def-d283a7fd3770",
   "metadata": {},
   "source": [
    "<br>\n",
    "<br>\n",
    "<span style='font-size:20px'>\n",
    "\n",
    "### F<sub>1</sub> Measure\n",
    "    \n",
    "</span>\n",
    "\n",
    "---\n",
    "\n",
    "<span style='font-size:20px'>\n",
    "    It is often convenient to combine precision and recall into a single metric called the F<sub>1</sub>-score, in particular if you need a simple way to compare two classifiers. The F<sub>1</sub>-score is the harmonic mean of precision and recall. Whereas the regular mean treats all values equally, the harmonic mean gives much more weight to low values. As a result, the classifier will only get a high F<sub>1</sub>-score if both recall and precision are high.\n",
    "</span>\n",
    "<br>\n",
    "<br>\n"
   ]
  },
  {
   "cell_type": "code",
   "execution_count": 20,
   "id": "f1dd6722-10a0-490e-a2bc-a48ad9e27416",
   "metadata": {},
   "outputs": [
    {
     "name": "stdout",
     "output_type": "stream",
     "text": [
      "F1-Score: 0.8833584715937657\n"
     ]
    }
   ],
   "source": [
    "from sklearn.metrics import f1_score\n",
    "\n",
    "print(f'F1-Score: {f1_score(y_train_7, y_train_predictions)}')"
   ]
  },
  {
   "cell_type": "markdown",
   "id": "29b94f78-c37c-45ab-a559-a8df37ca543c",
   "metadata": {},
   "source": [
    "<br>\n",
    "<br>\n",
    "<span style='font-size:20px'>\n",
    "\n",
    "### Precision / Recall Trade-off\n",
    "    \n",
    "</span>\n",
    "\n",
    "---\n",
    "\n",
    "<span style='font-size:20px'>\n",
    "    To understand this trade-off, let’s look at how the SGDClassifier makes its classification decisions. For each instance, it computes a score based on a decision function. If that score is greater than a threshold (The SGDClassifier uses a threshold equal to 0), it assigns the instance to the positive class, otherwise it assigns it to the negative class.<br>\n",
    "    Scikit-Learn does not let you set the threshold directly, but it does give you access to the decision scores that it uses to make predictions. Instead of calling the classifier’s predict() method, you can call its decision_function() method, which returns a score for each instance, and then use any threshold you want to make predictions based on those scores:\n",
    "</span>\n",
    "<br>\n",
    "<br>\n"
   ]
  },
  {
   "cell_type": "code",
   "execution_count": 21,
   "id": "bbf494a9-240f-4e2f-bc5b-9825019996e5",
   "metadata": {},
   "outputs": [
    {
     "name": "stdout",
     "output_type": "stream",
     "text": [
      "[73.19563852]\n",
      "Is it a 7? [ True]\n"
     ]
    },
    {
     "data": {
      "image/png": "[encoded data removed]",
      "text/plain": [
       "<Figure size 50x50 with 1 Axes>"
      ]
     },
     "metadata": {},
     "output_type": "display_data"
    }
   ],
   "source": [
    "score = model_sgd.decision_function([digit])\n",
    "threshold = 0\n",
    "print(score)\n",
    "print(f'Is it a 7? {score > threshold}')\n",
    "\n",
    "plt.figure(figsize=(0.5,0.5))\n",
    "plot_digit(digit)\n",
    "plt.show()"
   ]
  },
  {
   "cell_type": "markdown",
   "id": "7e474038-1718-4375-9cd4-aa26546630e6",
   "metadata": {},
   "source": [
    "<br>\n",
    "\n",
    "<span style='font-size:20px'>\n",
    "    As we can see above, the classifier was wrong, the number in this case was a 9, so it should've returned \"False\".<br>\n",
    "    If we increase his threshold, to a higher number, let's say 1000, let's see whats happens:\n",
    "</span>\n",
    "<br>\n",
    "<br>"
   ]
  },
  {
   "cell_type": "code",
   "execution_count": 22,
   "id": "5a9e7d5f-0f1c-415e-b977-a05cb4647fed",
   "metadata": {},
   "outputs": [
    {
     "name": "stdout",
     "output_type": "stream",
     "text": [
      "[73.19563852]\n",
      "Is it a 7? [False]\n"
     ]
    },
    {
     "data": {
      "image/png": "[encoded data removed]",
      "text/plain": [
       "<Figure size 50x50 with 1 Axes>"
      ]
     },
     "metadata": {},
     "output_type": "display_data"
    }
   ],
   "source": [
    "score = model_sgd.decision_function([digit])\n",
    "threshold = 1000\n",
    "print(score)\n",
    "print(f'Is it a 7? {score > threshold}')\n",
    "\n",
    "plt.figure(figsize=(0.5,0.5))\n",
    "plot_digit(digit)\n",
    "plt.show()"
   ]
  },
  {
   "cell_type": "markdown",
   "id": "7d60c4dc-8234-4f69-806d-03b00eb1b992",
   "metadata": {},
   "source": [
    "<br>\n",
    "\n",
    "<span style='font-size:20px'>\n",
    "    As expected, now the classifier will say that this is not a 7, increasing it's precision. But because we increased the threshold, we also decreased the recall of our classifiers, because now even if we have a 7 with the a threshold below 1000, it will return False.\n",
    "</span>\n",
    "<br>\n",
    "<br>"
   ]
  },
  {
   "cell_type": "code",
   "execution_count": 23,
   "id": "4f06481f-84b7-427f-8025-d2660bada308",
   "metadata": {},
   "outputs": [
    {
     "name": "stdout",
     "output_type": "stream",
     "text": [
      "[-3102.50473041]\n",
      "Is it a 7? [False]\n"
     ]
    },
    {
     "data": {
      "image/png": "[encoded data removed]",
      "text/plain": [
       "<Figure size 50x50 with 1 Axes>"
      ]
     },
     "metadata": {},
     "output_type": "display_data"
    }
   ],
   "source": [
    "a_seven = X[148]\n",
    "score = model_sgd.decision_function([a_seven])\n",
    "threshold = 1000\n",
    "print(score)\n",
    "print(f'Is it a 7? {score > threshold}')\n",
    "\n",
    "plt.figure(figsize=(0.5,0.5))\n",
    "plot_digit(a_seven)\n",
    "plt.show()"
   ]
  },
  {
   "cell_type": "markdown",
   "id": "47a95fa9-3bb8-4ed1-b2d0-03a5d4b44f17",
   "metadata": {},
   "source": [
    "<br>\n",
    "\n",
    "<span style='font-size:20px'>\n",
    "    In the above output, we clearly have a 7:\n",
    "</span>\n",
    "<br>\n",
    "<br>"
   ]
  },
  {
   "cell_type": "markdown",
   "id": "f201f2c3-e0d8-4433-94f8-da421ec0a9ea",
   "metadata": {},
   "source": [
    "<br>\n",
    "<br>\n",
    "<span style='font-size:20px'>\n",
    "\n",
    "### How to Decide Which Threshold To Use?\n",
    "    \n",
    "</span>\n",
    "\n",
    "---\n",
    "\n",
    "<span style='font-size:20px'>\n",
    "    First, let's use the cross_val_predict() function to get the scores of all instances in the training set, but this time specify that you want to return decision scores instead of predictions<br>\n",
    "    With these scores, let's use the precision_recall_curve() function to compute precision and recall for all possible thresholds<br>\n",
    "    Finally, use Matplotlib to plot precision and recall as functions of the threshold value:\n",
    "</span>\n",
    "<br>\n",
    "<br>\n"
   ]
  },
  {
   "cell_type": "code",
   "execution_count": 24,
   "id": "d65d2764-edb3-4797-ad0c-f6e9f13d61ca",
   "metadata": {},
   "outputs": [
    {
     "data": {
      "image/png": "[encoded data removed]",
      "text/plain": [
       "<Figure size 1200x400 with 1 Axes>"
      ]
     },
     "metadata": {},
     "output_type": "display_data"
    }
   ],
   "source": [
    "from sklearn.metrics import precision_recall_curve\n",
    "\n",
    "y_scores = cross_val_predict(model_sgd, X_train, y_train_7, cv=3, method='decision_function')\n",
    "\n",
    "precisions, recalls, thresholds = precision_recall_curve(y_train_7, y_scores) # This method can be unwrapped into 3 variables: precisions, recalls, thresholds.\n",
    "\n",
    "plt.figure(figsize=(12, 4))  # extra code – it's not needed, just formatting\n",
    "plt.plot(thresholds, precisions[:-1], \"b--\", label=\"Precision\", linewidth=2)\n",
    "plt.plot(thresholds, recalls[:-1], \"g-\", label=\"Recall\", linewidth=2)\n",
    "plt.vlines(threshold, 0, 1.0, \"k\", \"dotted\", label=\"Threshold\")\n",
    "\n",
    "idx = (thresholds >= threshold).argmax()  # first index ≥ threshold\n",
    "plt.plot(thresholds[idx], precisions[idx], \"bo\")\n",
    "plt.plot(thresholds[idx], recalls[idx], \"go\")\n",
    "plt.axis([-50000, 50000, 0, 1])\n",
    "plt.grid()\n",
    "plt.xlabel(\"Threshold\")\n",
    "plt.legend(loc=\"center right\")\n",
    "\n",
    "plt.show()"
   ]
  },
  {
   "cell_type": "markdown",
   "id": "e4f429ab-a76f-4345-a910-63ba71d361ee",
   "metadata": {},
   "source": [
    "<br>\n",
    "<br>\n",
    "\n",
    "<span style='font-size:25px'><strong>How do we interpretate that?</strong></span>\n",
    "\n",
    "<span style='font-size:20px'>\n",
    "The precision-recall curve illustrates the tradeoff between precision and recall for different thresholds. Here’s what it reveals:\n",
    "</span>\n",
    "<br>\n",
    "\n",
    "* <span style='font-size:20px'>A high area under the curve (AUC) represents both high recall and high precision. High precision corresponds to a low false positive rate, while high recall corresponds to a low false negative rate.</span>\n",
    "* <span style='font-size:20px'>If a system has high recall but low precision, it returns many results, but most of its predicted labels are incorrect compared to the training labels.</span>\n",
    "* <span style='font-size:20px'>Conversely, if a system has high precision but low recall, it returns very few results, but most of its predicted labels are correct compared to the training labels.</span>\n",
    "* <span style='font-size:20px'>An ideal system achieves both high precision and high recall, correctly labeling many results.</span>\n",
    "<br>\n",
    "<br>\n"
   ]
  },
  {
   "cell_type": "markdown",
   "id": "9af0cb0a-3d6d-42b8-9a7d-92d2b7bfd750",
   "metadata": {},
   "source": [
    "<br>\n",
    "<br>\n",
    "<span style='font-size:20px'>\n",
    "    Another way of seeing this is plotting the Recall x Precision curve:\n",
    "</span>\n",
    "\n",
    "---\n",
    "\n",
    "<br>"
   ]
  },
  {
   "cell_type": "code",
   "execution_count": 25,
   "id": "a9109ab3-64dc-4cb2-8241-f7997738116b",
   "metadata": {},
   "outputs": [
    {
     "data": {
      "image/png": "[encoded data removed]",
      "text/plain": [
       "<Figure size 800x400 with 1 Axes>"
      ]
     },
     "metadata": {},
     "output_type": "display_data"
    }
   ],
   "source": [
    "import matplotlib.patches as patches\n",
    "\n",
    "plt.figure(figsize=(8, 4))\n",
    "\n",
    "plt.plot(recalls, precisions, linewidth=2, label=\"Precision/Recall curve\")\n",
    "\n",
    "plt.plot([recalls[idx], recalls[idx]], [0., precisions[idx]], \"k:\")\n",
    "plt.plot([0.0, recalls[idx]], [precisions[idx], precisions[idx]], \"k:\")\n",
    "plt.plot([recalls[idx]], [precisions[idx]], \"ko\",\n",
    "         label=\"Point at threshold 3,000\")\n",
    "plt.gca().add_patch(patches.FancyArrowPatch(\n",
    "    (0.79, 0.60), (0.61, 0.78),\n",
    "    connectionstyle=\"arc3,rad=.2\",\n",
    "    arrowstyle=\"Simple, tail_width=1.5, head_width=8, head_length=10\",\n",
    "    color=\"#444444\"))\n",
    "plt.text(0.56, 0.62, \"Higher\\nthreshold\", color=\"#333333\")\n",
    "plt.xlabel(\"Recall\")\n",
    "plt.ylabel(\"Precision\")\n",
    "plt.axis([0, 1, 0, 1])\n",
    "plt.grid()\n",
    "plt.legend(loc=\"lower left\")\n",
    "plt.title(\"Precision x Recall Curve\", size=20)\n",
    "\n",
    "plt.show()"
   ]
  },
  {
   "cell_type": "markdown",
   "id": "542ac33e-1360-4cb5-b215-4db588018ea1",
   "metadata": {},
   "source": [
    "<br>\n",
    "<br>\n",
    "<span style='font-size:20px'>\n",
    "\n",
    "### The ROC Curve\n",
    "    \n",
    "</span>\n",
    "\n",
    "---\n",
    "\n",
    "<span style='font-size:20px'>\n",
    "\n",
    "The **Receiver Operating Characteristic (ROC) curve** is a graphical representation used to evaluate the performance of a **classification model**, particularly in scenarios where the response variable is binary (e.g., positive/negative, true/false, yes/no).\n",
    "\n",
    "Here's how it works:\n",
    "\n",
    "1. **True Positive Rate (TPR)**: Also known as **sensitivity** or **recall**, this metric measures the proportion of actual positive cases correctly predicted by the model. In other words, it answers the question: \"Of all the positive cases in the dataset, how many did the model correctly identify?\"\n",
    "\n",
    "2. **False Positive Rate (FPR)**: This metric represents the proportion of negative cases incorrectly predicted as positive by the model. It answers the question: \"Of all the negative cases in the dataset, how many were falsely classified as positive?\" - This metrics is calculater by 1 - TNR (True Negative Rate - aka _Specificity_)\n",
    "\n",
    "The ROC curve is created by plotting pairs of TPR (sensitivity) against FPR for various decision thresholds of the classification model. Each point on the curve corresponds to a specific threshold. The curve visually illustrates the tradeoff between sensitivity and specificity (or 1 - FPR) across different threshold values.\n",
    "\n",
    "Key points about the ROC curve:\n",
    "\n",
    "- **AUC (Area Under the Curve)**: The area under the ROC curve quantifies the overall performance of the model. A perfect model would have an AUC of 1, while a random model would have an AUC of 0.5 (a diagonal line). The closer the AUC is to 1, the better the model's ability to distinguish between positive and negative cases.\n",
    "\n",
    "- **Interpretation**: If the ROC curve hugs the top-left corner (i.e., TPR is high while keeping FPR low), the model performs well. Conversely, if the curve is close to the diagonal, the model's performance is no better than random guessing.\n",
    "\n",
    "- **Model Comparison**: Calculating the AUC for multiple models allows us to compare their predictive abilities. The model with the highest AUC is considered the best at correctly classifying observations into categories.\n",
    "\n",
    "Remember, the ROC curve provides valuable insights into a model's performance, especially when dealing with binary classification tasks.\n",
    "\n",
    "</span>\n",
    "<br>\n",
    "<br>\n"
   ]
  },
  {
   "cell_type": "code",
   "execution_count": 26,
   "id": "c7b1fa13-ba13-4a97-ba09-9d41dc9c6d04",
   "metadata": {},
   "outputs": [],
   "source": [
    "from sklearn.metrics import roc_curve\n",
    "\n",
    "false_positive_rate, true_positive_rate, thresholds = roc_curve(y_true=y_train_7, y_score=y_scores)\n",
    "\n",
    "def plot_roc_curve(fpr, tpr, label=None):\n",
    "    plt.plot(fpr, tpr, \"b:\",linewidth=2, label=label)\n",
    "    plt.plot([0, 1], [0, 1], 'k--', label=\"Random Classifier\")\n",
    "    plt.xlabel('False Positive Rate (Fall-Out)')\n",
    "    plt.ylabel('True Positive Rate (Recall)')\n",
    "    plt.grid()\n",
    "    plt.axis([0, 1, 0, 1])"
   ]
  },
  {
   "cell_type": "code",
   "execution_count": 27,
   "id": "f6d99269-57be-43f5-89fa-90d165100f46",
   "metadata": {},
   "outputs": [
    {
     "data": {
      "image/png": "[encoded data removed]",
      "text/plain": [
       "<Figure size 640x480 with 1 Axes>"
      ]
     },
     "metadata": {},
     "output_type": "display_data"
    }
   ],
   "source": [
    "plot_roc_curve(false_positive_rate, true_positive_rate, \"ROC curve\")\n",
    "plt.gca().add_patch(patches.FancyArrowPatch(\n",
    "    (0.20, 0.89), (0.07, 0.70),\n",
    "    connectionstyle=\"arc3,rad=.4\",\n",
    "    arrowstyle=\"Simple, tail_width=1.5, head_width=8, head_length=10\",\n",
    "    color=\"#444444\"))\n",
    "plt.text(0.12, 0.71, \"Higher\\nthreshold\", color=\"#333333\")\n",
    "plt.legend(loc=\"lower right\", fontsize=13)\n",
    "plt.show()"
   ]
  },
  {
   "cell_type": "markdown",
   "id": "d8ac1100-7517-4234-9bf4-3e08ad4cedc7",
   "metadata": {},
   "source": [
    "<br>\n",
    "<br>\n",
    "<span style='font-size:20px'>\n",
    "\n",
    "When deciding between the **ROC (Receiver Operating Characteristic) curve** and the **PR (Precision-Recall) curve**, consider the following guidelines:\n",
    "\n",
    "1. **Imbalanced Data**:\n",
    "   - **PR Curve**: Prefer the PR curve when dealing with imbalanced datasets, especially when the positive class is rare. The PR curve focuses exclusively on the positive class and considers correct predictions of the negative class. It provides valuable insights into model performance in such scenarios⁴.\n",
    "   - **ROC Curve**: The ROC curve measures both the ability of the model to correctly classify positive examples and its ability to minimize false positive errors. It is suitable for balanced datasets or when the class distribution is not highly skewed³.\n",
    "\n",
    "2. **Tradeoff Between False Positives and False Negatives**:\n",
    "   - **PR Curve**: If you care more about minimizing false positives (e.g., avoiding false alarms) than false negatives (missing true positives), choose the PR curve. It directly shows the tradeoff between precision and recall, allowing you to set an appropriate threshold².\n",
    "   - **ROC Curve**: If you want to evaluate overall model performance without a specific emphasis on false positives or false negatives, the ROC curve provides a broader view of the tradeoff between true positive rate (sensitivity) and false positive rate¹.\n",
    "\n",
    "3. **Context and Priorities**:\n",
    "   - Consider the context of your problem and the relative importance of precision and recall. For instance:\n",
    "     - In medical diagnosis, missing a disease (false negatives) may be more critical than false alarms (false positives).\n",
    "     - In fraud detection, minimizing false positives (avoiding false accusations) is crucial.\n",
    "     - In anomaly detection, a high recall (finding most anomalies) might be more important.\n",
    "   - Choose the curve that aligns with your priorities.\n",
    "\n",
    "Remember that both curves provide valuable information about classifier performance. The choice depends on your specific use case, dataset characteristics, and the balance between precision and recall\n",
    "\n",
    "</span>\n",
    "<br>\n",
    "<br>\n"
   ]
  },
  {
   "cell_type": "markdown",
   "id": "948fe78e-d72c-478a-8bc0-8752699615c3",
   "metadata": {},
   "source": [
    "<span style='font-size:20px'>\n",
    "\n",
    "## Using Another Classifier\n",
    "    \n",
    "</span>\n",
    "\n",
    "---\n",
    "\n",
    "<span style='font-size:20px'>\n",
    "\n",
    "Let’s now train a RandomForestClassifier and compare its ROC curve and ROC AUC score to those of the SGDClassifier.<br>\n",
    "First, you need to get scores for each instance in the training set. But due to the way it works, the RandomForestClassifier class does not have a decision_function() method. Instead, it has a predict_proba() method. Scikit-Learn classifiers generally have one or the other, or both. The predict_proba() method returns an array containing a row per instance and a column per class, each containing the probability that the given instance belongs to the given class (e.g., 70% chance that the image represents a 7):\n",
    "\n",
    "</span>\n",
    "<br>"
   ]
  },
  {
   "cell_type": "code",
   "execution_count": 28,
   "id": "a3e6bb2f-ee64-4d86-ae18-7de35117e746",
   "metadata": {},
   "outputs": [
    {
     "data": {
      "text/html": [
       "<div>\n",
       "<style scoped>\n",
       "    .dataframe tbody tr th:only-of-type {\n",
       "        vertical-align: middle;\n",
       "    }\n",
       "\n",
       "    .dataframe tbody tr th {\n",
       "        vertical-align: top;\n",
       "    }\n",
       "\n",
       "    .dataframe thead th {\n",
       "        text-align: right;\n",
       "    }\n",
       "</style>\n",
       "<table border=\"1\" class=\"dataframe\">\n",
       "  <thead>\n",
       "    <tr style=\"text-align: right;\">\n",
       "      <th></th>\n",
       "      <th>Prob. of not being a 7</th>\n",
       "      <th>Prob. of being a 7</th>\n",
       "    </tr>\n",
       "  </thead>\n",
       "  <tbody>\n",
       "    <tr>\n",
       "      <th>0</th>\n",
       "      <td>0.97</td>\n",
       "      <td>0.03</td>\n",
       "    </tr>\n",
       "    <tr>\n",
       "      <th>1</th>\n",
       "      <td>1.00</td>\n",
       "      <td>0.00</td>\n",
       "    </tr>\n",
       "    <tr>\n",
       "      <th>2</th>\n",
       "      <td>0.88</td>\n",
       "      <td>0.12</td>\n",
       "    </tr>\n",
       "    <tr>\n",
       "      <th>3</th>\n",
       "      <td>1.00</td>\n",
       "      <td>0.00</td>\n",
       "    </tr>\n",
       "    <tr>\n",
       "      <th>4</th>\n",
       "      <td>0.97</td>\n",
       "      <td>0.03</td>\n",
       "    </tr>\n",
       "    <tr>\n",
       "      <th>...</th>\n",
       "      <td>...</td>\n",
       "      <td>...</td>\n",
       "    </tr>\n",
       "    <tr>\n",
       "      <th>59995</th>\n",
       "      <td>1.00</td>\n",
       "      <td>0.00</td>\n",
       "    </tr>\n",
       "    <tr>\n",
       "      <th>59996</th>\n",
       "      <td>1.00</td>\n",
       "      <td>0.00</td>\n",
       "    </tr>\n",
       "    <tr>\n",
       "      <th>59997</th>\n",
       "      <td>0.98</td>\n",
       "      <td>0.02</td>\n",
       "    </tr>\n",
       "    <tr>\n",
       "      <th>59998</th>\n",
       "      <td>1.00</td>\n",
       "      <td>0.00</td>\n",
       "    </tr>\n",
       "    <tr>\n",
       "      <th>59999</th>\n",
       "      <td>0.98</td>\n",
       "      <td>0.02</td>\n",
       "    </tr>\n",
       "  </tbody>\n",
       "</table>\n",
       "<p>60000 rows × 2 columns</p>\n",
       "</div>"
      ],
      "text/plain": [
       "       Prob. of not being a 7  Prob. of being a 7\n",
       "0                        0.97                0.03\n",
       "1                        1.00                0.00\n",
       "2                        0.88                0.12\n",
       "3                        1.00                0.00\n",
       "4                        0.97                0.03\n",
       "...                       ...                 ...\n",
       "59995                    1.00                0.00\n",
       "59996                    1.00                0.00\n",
       "59997                    0.98                0.02\n",
       "59998                    1.00                0.00\n",
       "59999                    0.98                0.02\n",
       "\n",
       "[60000 rows x 2 columns]"
      ]
     },
     "metadata": {},
     "output_type": "display_data"
    }
   ],
   "source": [
    "from sklearn.ensemble import RandomForestClassifier\n",
    "import pandas as pd\n",
    "\n",
    "rnd_forest_clf = RandomForestClassifier(random_state=101)\n",
    "y_proba_rnd_forest = cross_val_predict(rnd_forest_clf, X_train, y_train_7, cv=3, method='predict_proba')\n",
    "display(pd.DataFrame(data=y_proba_rnd_forest, columns=[\"Prob. of not being a 7\", \"Prob. of being a 7\"]))"
   ]
  },
  {
   "cell_type": "code",
   "execution_count": 29,
   "id": "33c86fc2-ccfc-484a-ad4c-8dbd87b0e87a",
   "metadata": {},
   "outputs": [],
   "source": [
    "y_scores_rnd_forest = y_proba_rnd_forest[:, 1] # score = probability of positive class\n",
    "false_positive_rate_forest, true_positive_rate_forest, thresholds_forest = roc_curve(y_train_7, y_scores_rnd_forest)"
   ]
  },
  {
   "cell_type": "code",
   "execution_count": 30,
   "id": "e661b887-8c4b-4643-a7cd-d4a7b4d80e73",
   "metadata": {},
   "outputs": [
    {
     "data": {
      "image/png": "[encoded data removed]",
      "text/plain": [
       "<Figure size 640x480 with 1 Axes>"
      ]
     },
     "metadata": {},
     "output_type": "display_data"
    }
   ],
   "source": [
    "plt.plot(false_positive_rate_forest, true_positive_rate_forest, \"r\",label=\"Random Forest\")\n",
    "plot_roc_curve(false_positive_rate, true_positive_rate, \"ROC curve\")\n",
    "plt.legend(loc=\"lower right\", fontsize=13)\n",
    "plt.show()"
   ]
  },
  {
   "cell_type": "markdown",
   "id": "98d149a4-eab4-4027-8153-bd78a37d0703",
   "metadata": {},
   "source": [
    "---\n",
    "\n",
    "<span style='font-size:20px'>\n",
    "\n",
    "the Random Forest classifier is superior to the SGD classifier because its ROC curve is much closer to the top-left corner, and it has a greater AUC.\n",
    "\n",
    "</span>\n",
    "<br>"
   ]
  },
  {
   "cell_type": "code",
   "execution_count": 31,
   "id": "ea10f8f4-2b03-4657-a868-6378760f075b",
   "metadata": {},
   "outputs": [
    {
     "name": "stdout",
     "output_type": "stream",
     "text": [
      "RandomForest Precision: 0.9856177438918732\n",
      "RandomForest recall: 0.9079010375099761\n"
     ]
    }
   ],
   "source": [
    "from sklearn.metrics import recall_score, precision_score\n",
    "\n",
    "y_predictions = y_scores_rnd_forest >= 0.5\n",
    "precision = precision_score(y_true=y_train_7, y_pred=y_predictions)\n",
    "recall = recall_score(y_true=y_train_7, y_pred=y_predictions)\n",
    "\n",
    "print(f'RandomForest Precision: {precision}')\n",
    "print(f'RandomForest recall: {recall}')"
   ]
  },
  {
   "cell_type": "markdown",
   "id": "51755d59-c4f9-4533-88b9-0f9bea909c69",
   "metadata": {},
   "source": [
    "<br>\n",
    "<br>\n",
    "<br>\n",
    "\n",
    "<span style='font-size:25px'>\n",
    "\n",
    "# Multiclass Classification\n",
    "    \n",
    "</span>\n",
    "\n",
    "---\n",
    "\n",
    "<span style='font-size:20px'>\n",
    "    \n",
    "**Multiclass classification** is a type of **classification task** where the goal is to assign an input sample to one of several possible classes. Unlike binary classification (which involves only two classes), multiclass classification deals with more than two classes. Each sample is labeled as one specific class out of the available options.\n",
    "\n",
    "For example, consider a scenario where we want to classify images of fruits into three categories: **orange**, **apple**, or **pear**. Each image corresponds to one sample, and the task is to predict which fruit category it belongs to. In this case, we have a multiclass classification problem with three classes.\n",
    "\n",
    "Common algorithms used for multiclass classification include:\n",
    "\n",
    "1. **Inherently Multiclass Algorithms**:\n",
    "   - These algorithms natively support multiclass classification without any additional modifications. Some examples include:\n",
    "     - **Naive Bayes (BernoulliNB)**\n",
    "     - **Decision Trees (DecisionTreeClassifier)**\n",
    "     - **Random Forests (ExtraTreesClassifier)**\n",
    "     - **Gaussian Naive Bayes (GaussianNB)**\n",
    "     - **K-Nearest Neighbors (KNeighborsClassifier)**\n",
    "     - **Linear Discriminant Analysis (LinearDiscriminantAnalysis)**\n",
    "     - **Support Vector Machines (SVM) with certain settings**\n",
    "     - **Logistic Regression (LogisticRegression) with certain settings**\n",
    "     - **Neural Networks (MLPClassifier)**\n",
    "     - **Nearest Centroid (NearestCentroid)**\n",
    "     - **Quadratic Discriminant Analysis (QuadraticDiscriminantAnalysis)**\n",
    "   - These algorithms handle multiclass scenarios directly and do not require additional transformations.\n",
    "\n",
    "2. **Multiclass as One-Vs-One (OvO)**:\n",
    "   - In this approach, the problem is transformed into a set of binary classification problems. Each class is compared against every other class, resulting in a total of C(C-1)/2 binary classifiers (where C is the number of classes).\n",
    "   - Examples of OvO algorithms:\n",
    "     - **Support Vector Machines (SVM) with NuSVC or SVC**\n",
    "     - **Gaussian Process Classifier (GaussianProcessClassifier) with specific settings**\n",
    "\n",
    "3. **Multiclass as One-Vs-The-Rest (OvR or OvA)**:\n",
    "   - In this strategy, each class is treated as the positive class, and the rest of the classes are grouped together as the negative class. Separate binary classifiers are trained for each class.\n",
    "   - Examples of OvR algorithms:\n",
    "     - **Gradient Boosting Classifier (GradientBoostingClassifier)**\n",
    "     - **Gaussian Process Classifier (GaussianProcessClassifier) with specific settings**\n",
    "     - **Support Vector Machines (SVM) with LinearSVC or LogisticRegression with specific settings**\n",
    "     - **Stochastic Gradient Descent Classifier (SGDClassifier)**\n",
    "     - **Perceptron (Perceptron)**\n",
    "     - **Passive Aggressive Classifier (PassiveAggressiveClassifier)**\n",
    "\n",
    "Remember that the choice of algorithm depends on the specific problem, dataset characteristics, and performance requirements. Multiclass classification allows us to handle complex scenarios with multiple classes, making it a fundamental task in machine learning.\n",
    "\n",
    "</span>\n",
    "<br>\n",
    "<br>\n",
    "<br>"
   ]
  },
  {
   "cell_type": "markdown",
   "id": "44be8a5d-ae3d-4efc-a3f8-e241da631159",
   "metadata": {},
   "source": [
    "<span style='font-size:25px'>\n",
    "\n",
    "## Support Vector Machine (Support Vector Classifier)\n",
    "    \n",
    "</span>\n",
    "\n",
    "---\n",
    "\n",
    "<span style='font-size:20px'>\n",
    "    \n",
    "Let's start with the Support Vector Classifier from Scikit-Learn\n",
    "\n",
    "</span>\n",
    "<br>"
   ]
  },
  {
   "cell_type": "code",
   "execution_count": 32,
   "id": "bfaf45e5-5ed0-40ca-b770-9b09baebd2e7",
   "metadata": {},
   "outputs": [
    {
     "data": {
      "text/html": [
       "<style>#sk-container-id-2 {color: black;background-color: white;}#sk-container-id-2 pre{padding: 0;}#sk-container-id-2 div.sk-toggleable {background-color: white;}#sk-container-id-2 label.sk-toggleable__label {cursor: pointer;display: block;width: 100%;margin-bottom: 0;padding: 0.3em;box-sizing: border-box;text-align: center;}#sk-container-id-2 label.sk-toggleable__label-arrow:before {content: \"▸\";float: left;margin-right: 0.25em;color: #696969;}#sk-container-id-2 label.sk-toggleable__label-arrow:hover:before {color: black;}#sk-container-id-2 div.sk-estimator:hover label.sk-toggleable__label-arrow:before {color: black;}#sk-container-id-2 div.sk-toggleable__content {max-height: 0;max-width: 0;overflow: hidden;text-align: left;background-color: #f0f8ff;}#sk-container-id-2 div.sk-toggleable__content pre {margin: 0.2em;color: black;border-radius: 0.25em;background-color: #f0f8ff;}#sk-container-id-2 input.sk-toggleable__control:checked~div.sk-toggleable__content {max-height: 200px;max-width: 100%;overflow: auto;}#sk-container-id-2 input.sk-toggleable__control:checked~label.sk-toggleable__label-arrow:before {content: \"▾\";}#sk-container-id-2 div.sk-estimator input.sk-toggleable__control:checked~label.sk-toggleable__label {background-color: #d4ebff;}#sk-container-id-2 div.sk-label input.sk-toggleable__control:checked~label.sk-toggleable__label {background-color: #d4ebff;}#sk-container-id-2 input.sk-hidden--visually {border: 0;clip: rect(1px 1px 1px 1px);clip: rect(1px, 1px, 1px, 1px);height: 1px;margin: -1px;overflow: hidden;padding: 0;position: absolute;width: 1px;}#sk-container-id-2 div.sk-estimator {font-family: monospace;background-color: #f0f8ff;border: 1px dotted black;border-radius: 0.25em;box-sizing: border-box;margin-bottom: 0.5em;}#sk-container-id-2 div.sk-estimator:hover {background-color: #d4ebff;}#sk-container-id-2 div.sk-parallel-item::after {content: \"\";width: 100%;border-bottom: 1px solid gray;flex-grow: 1;}#sk-container-id-2 div.sk-label:hover label.sk-toggleable__label {background-color: #d4ebff;}#sk-container-id-2 div.sk-serial::before {content: \"\";position: absolute;border-left: 1px solid gray;box-sizing: border-box;top: 0;bottom: 0;left: 50%;z-index: 0;}#sk-container-id-2 div.sk-serial {display: flex;flex-direction: column;align-items: center;background-color: white;padding-right: 0.2em;padding-left: 0.2em;position: relative;}#sk-container-id-2 div.sk-item {position: relative;z-index: 1;}#sk-container-id-2 div.sk-parallel {display: flex;align-items: stretch;justify-content: center;background-color: white;position: relative;}#sk-container-id-2 div.sk-item::before, #sk-container-id-2 div.sk-parallel-item::before {content: \"\";position: absolute;border-left: 1px solid gray;box-sizing: border-box;top: 0;bottom: 0;left: 50%;z-index: -1;}#sk-container-id-2 div.sk-parallel-item {display: flex;flex-direction: column;z-index: 1;position: relative;background-color: white;}#sk-container-id-2 div.sk-parallel-item:first-child::after {align-self: flex-end;width: 50%;}#sk-container-id-2 div.sk-parallel-item:last-child::after {align-self: flex-start;width: 50%;}#sk-container-id-2 div.sk-parallel-item:only-child::after {width: 0;}#sk-container-id-2 div.sk-dashed-wrapped {border: 1px dashed gray;margin: 0 0.4em 0.5em 0.4em;box-sizing: border-box;padding-bottom: 0.4em;background-color: white;}#sk-container-id-2 div.sk-label label {font-family: monospace;font-weight: bold;display: inline-block;line-height: 1.2em;}#sk-container-id-2 div.sk-label-container {text-align: center;}#sk-container-id-2 div.sk-container {/* jupyter's `normalize.less` sets `[hidden] { display: none; }` but bootstrap.min.css set `[hidden] { display: none !important; }` so we also need the `!important` here to be able to override the default hidden behavior on the sphinx rendered scikit-learn.org. See: https://github.com/scikit-learn/scikit-learn/issues/21755 */display: inline-block !important;position: relative;}#sk-container-id-2 div.sk-text-repr-fallback {display: none;}</style><div id=\"sk-container-id-2\" class=\"sk-top-container\"><div class=\"sk-text-repr-fallback\"><pre>SVC()</pre><b>In a Jupyter environment, please rerun this cell to show the HTML representation or trust the notebook. <br />On GitHub, the HTML representation is unable to render, please try loading this page with nbviewer.org.</b></div><div class=\"sk-container\" hidden><div class=\"sk-item\"><div class=\"sk-estimator sk-toggleable\"><input class=\"sk-toggleable__control sk-hidden--visually\" id=\"sk-estimator-id-2\" type=\"checkbox\" checked><label for=\"sk-estimator-id-2\" class=\"sk-toggleable__label sk-toggleable__label-arrow\">SVC</label><div class=\"sk-toggleable__content\"><pre>SVC()</pre></div></div></div></div></div>"
      ],
      "text/plain": [
       "SVC()"
      ]
     },
     "execution_count": 32,
     "metadata": {},
     "output_type": "execute_result"
    }
   ],
   "source": [
    "from sklearn.svm import SVC\n",
    "\n",
    "svm_clf = SVC()\n",
    "svm_clf.fit(X_train, y_train) # Now with y_train, containing all the numbers from 0 to 9"
   ]
  },
  {
   "cell_type": "code",
   "execution_count": 33,
   "id": "370685fb-a08a-4039-8245-096544f8f418",
   "metadata": {},
   "outputs": [
    {
     "data": {
      "image/png": "[encoded data removed]",
      "text/plain": [
       "<Figure size 100x100 with 1 Axes>"
      ]
     },
     "metadata": {},
     "output_type": "display_data"
    },
    {
     "name": "stdout",
     "output_type": "stream",
     "text": [
      "Predicted class: [3]\n",
      "\n"
     ]
    }
   ],
   "source": [
    "digit = X[10]\n",
    "plt.figure(figsize=(1,1))\n",
    "plot_digit(digit)\n",
    "plt.show()\n",
    "print(f\"Predicted class: {svm_clf.predict([digit])}\", end='\\n\\n')"
   ]
  },
  {
   "cell_type": "markdown",
   "id": "7feeb2bb-b46a-496b-b1a2-a8d10874ccc8",
   "metadata": {},
   "source": [
    "<span style='font-size:20px'>\n",
    "    \n",
    "That was easy! This code trains the SVC on the training set using the original target classes from 0 to 9 (y_train), instead of the 7-versus-the-rest target classes (y_train_7). Then it makes a prediction (a correct one in this case). Under the hood, Scikit-Learn actually used the OvO (_one-versus-one_) strategy: it trained 45 binary classifiers, got their decision scores for the image, and selected the class that won the most duels. If you call the decision_function() method, you will see that it returns 10 scores per instance (instead of just 1). That’s one score per class:\n",
    "\n",
    "</span>\n",
    "<br>"
   ]
  },
  {
   "cell_type": "code",
   "execution_count": 34,
   "id": "b5bb505a-1009-416c-bb8a-e43deb70aa8d",
   "metadata": {},
   "outputs": [
    {
     "name": "stdout",
     "output_type": "stream",
     "text": [
      "[[ 2.73719174  6.20651629  3.81372559  9.32009109  0.69223349  6.26207869\n",
      "  -0.31019599  1.69984884  8.29382546  6.23989726]]\n"
     ]
    }
   ],
   "source": [
    "digit_scores = svm_clf.decision_function([digit])\n",
    "print(digit_scores)"
   ]
  },
  {
   "cell_type": "code",
   "execution_count": 35,
   "id": "7ef2f05e-f309-45f2-a06e-8e1237f0e4ca",
   "metadata": {},
   "outputs": [
    {
     "name": "stdout",
     "output_type": "stream",
     "text": [
      "Winner Class Index: 3\n",
      "Classes: [0 1 2 3 4 5 6 7 8 9]\n",
      "Winner Class at index 3: 3\n"
     ]
    }
   ],
   "source": [
    "winner_class = np.argmax(digit_scores)\n",
    "print(f'Winner Class Index: {winner_class}')\n",
    "print(f'Classes: {svm_clf.classes_}')\n",
    "print(f'Winner Class at index {winner_class}: {svm_clf.classes_[winner_class]}')"
   ]
  },
  {
   "cell_type": "markdown",
   "id": "d7b967a9-7dab-4d46-a34c-e87b5c90c7f4",
   "metadata": {},
   "source": [
    "<br>\n",
    "\n",
    "<span style='font-size:20px'>\n",
    "    \n",
    "If you want `decision_function()` to return all 45 scores, you can set the `decision_function_shape` hyperparameter to `\"ovo\"`. The default value is `\"ovr\"`, but don't let this confuse you: `SVC` always uses OvO for training. This hyperparameter only affects whether or not the 45 scores get aggregated or not:\n",
    "\n",
    "</span>\n",
    "\n",
    "<br>"
   ]
  },
  {
   "cell_type": "code",
   "execution_count": 36,
   "id": "a66f93da-869c-4d5f-bc5c-235ff8349bc8",
   "metadata": {},
   "outputs": [
    {
     "data": {
      "text/plain": [
       "array([[-0.1 , -0.84, -2.48,  1.22, -1.26,  0.78,  0.81, -1.34, -0.53,\n",
       "         0.67, -2.31,  1.08, -0.29,  1.54,  1.26, -0.64,  0.22, -3.12,\n",
       "         1.22, -0.55,  1.73,  0.82, -1.53, -0.01,  2.75,  2.71,  3.13,\n",
       "         3.06,  2.52,  2.09, -1.29,  0.04, -0.9 , -1.94, -1.67,  2.26,\n",
       "         1.17, -0.07, -0.37, -0.46, -2.66, -0.8 , -1.64, -1.64,  0.14]])"
      ]
     },
     "execution_count": 36,
     "metadata": {},
     "output_type": "execute_result"
    }
   ],
   "source": [
    "# extra code – shows how to get all 45 OvO scores if needed\n",
    "svm_clf.decision_function_shape = \"ovo\"\n",
    "digit_scores_ovo = svm_clf.decision_function([digit])\n",
    "digit_scores_ovo.round(2)"
   ]
  },
  {
   "cell_type": "markdown",
   "id": "342bb38a-b31d-43d9-b4f8-08dd21854455",
   "metadata": {},
   "source": [
    "<br>\n",
    "\n",
    "<span style='font-size:20px'>\n",
    "    \n",
    "When a classifier is trained, it stores the list of target classes in its classes_ attribute, ordered by value. In this case, the index of each class in the classes_ array conveniently matches the class itself (e.g., the class at index 5 happens to be class 5), but in general you won’t be so lucky.<br><br>\n",
    "If you want to force Scikit-Learn to use one-versus-one or one-versus-the-rest, you can use the OneVsOneClassifier or OneVsRestClassifier classes. Simply create an instance and pass a classifier to its constructor (it does not even have to be a binary classifier). For example, this code creates a multiclass classifier using the OvR strategy, based on an SVC:\n",
    "\n",
    "</span>\n",
    "\n",
    "<br>"
   ]
  },
  {
   "cell_type": "code",
   "execution_count": 37,
   "id": "9364393a-73b3-4501-9a97-fe2222fd1d39",
   "metadata": {},
   "outputs": [],
   "source": [
    "# from sklearn.multiclass import OneVsRestClassifier # This line of code takes to much time to run\n",
    "\n",
    "# svm_ovr_clf = OneVsRestClassifier(SVC())\n",
    "# svm_ovr_clf.fit(X_train, y_train)"
   ]
  },
  {
   "cell_type": "code",
   "execution_count": 38,
   "id": "9c2dc280-f7df-4e1c-b2ed-dabbdc44c12b",
   "metadata": {},
   "outputs": [],
   "source": [
    "# plt.figure(figsize=(1,1))\n",
    "# plot_digit(digit)\n",
    "# plt.show()\n",
    "# print(f\"Predicted class: {svm_ovr_clf.predict([digit])}\", end='\\n\\n')"
   ]
  },
  {
   "cell_type": "markdown",
   "id": "79fa93b4-4fec-4a04-b4cd-9830883e667e",
   "metadata": {},
   "source": [
    "<br>\n",
    "<br>\n",
    "<br>\n",
    "\n",
    "<span style='font-size:25px'>\n",
    "\n",
    "## SGDClassifier for Multiclass\n",
    "    \n",
    "</span>\n",
    "\n",
    "---\n",
    "\n",
    "<span style='font-size:20px'>\n",
    "    \n",
    "This time Scikit-Learn did not have to run OvR or OvO because SGD classifiers can directly classify instances into multiple classes. The `decision_function()` method now returns one value per class. Let’s look at the score that the SGD classifier assigned to each class:\n",
    "\n",
    "</span>\n",
    "<br>"
   ]
  },
  {
   "cell_type": "code",
   "execution_count": 39,
   "id": "cbd32c97-a326-429c-9f0e-4abde48f890f",
   "metadata": {},
   "outputs": [
    {
     "data": {
      "text/html": [
       "<style>#sk-container-id-3 {color: black;background-color: white;}#sk-container-id-3 pre{padding: 0;}#sk-container-id-3 div.sk-toggleable {background-color: white;}#sk-container-id-3 label.sk-toggleable__label {cursor: pointer;display: block;width: 100%;margin-bottom: 0;padding: 0.3em;box-sizing: border-box;text-align: center;}#sk-container-id-3 label.sk-toggleable__label-arrow:before {content: \"▸\";float: left;margin-right: 0.25em;color: #696969;}#sk-container-id-3 label.sk-toggleable__label-arrow:hover:before {color: black;}#sk-container-id-3 div.sk-estimator:hover label.sk-toggleable__label-arrow:before {color: black;}#sk-container-id-3 div.sk-toggleable__content {max-height: 0;max-width: 0;overflow: hidden;text-align: left;background-color: #f0f8ff;}#sk-container-id-3 div.sk-toggleable__content pre {margin: 0.2em;color: black;border-radius: 0.25em;background-color: #f0f8ff;}#sk-container-id-3 input.sk-toggleable__control:checked~div.sk-toggleable__content {max-height: 200px;max-width: 100%;overflow: auto;}#sk-container-id-3 input.sk-toggleable__control:checked~label.sk-toggleable__label-arrow:before {content: \"▾\";}#sk-container-id-3 div.sk-estimator input.sk-toggleable__control:checked~label.sk-toggleable__label {background-color: #d4ebff;}#sk-container-id-3 div.sk-label input.sk-toggleable__control:checked~label.sk-toggleable__label {background-color: #d4ebff;}#sk-container-id-3 input.sk-hidden--visually {border: 0;clip: rect(1px 1px 1px 1px);clip: rect(1px, 1px, 1px, 1px);height: 1px;margin: -1px;overflow: hidden;padding: 0;position: absolute;width: 1px;}#sk-container-id-3 div.sk-estimator {font-family: monospace;background-color: #f0f8ff;border: 1px dotted black;border-radius: 0.25em;box-sizing: border-box;margin-bottom: 0.5em;}#sk-container-id-3 div.sk-estimator:hover {background-color: #d4ebff;}#sk-container-id-3 div.sk-parallel-item::after {content: \"\";width: 100%;border-bottom: 1px solid gray;flex-grow: 1;}#sk-container-id-3 div.sk-label:hover label.sk-toggleable__label {background-color: #d4ebff;}#sk-container-id-3 div.sk-serial::before {content: \"\";position: absolute;border-left: 1px solid gray;box-sizing: border-box;top: 0;bottom: 0;left: 50%;z-index: 0;}#sk-container-id-3 div.sk-serial {display: flex;flex-direction: column;align-items: center;background-color: white;padding-right: 0.2em;padding-left: 0.2em;position: relative;}#sk-container-id-3 div.sk-item {position: relative;z-index: 1;}#sk-container-id-3 div.sk-parallel {display: flex;align-items: stretch;justify-content: center;background-color: white;position: relative;}#sk-container-id-3 div.sk-item::before, #sk-container-id-3 div.sk-parallel-item::before {content: \"\";position: absolute;border-left: 1px solid gray;box-sizing: border-box;top: 0;bottom: 0;left: 50%;z-index: -1;}#sk-container-id-3 div.sk-parallel-item {display: flex;flex-direction: column;z-index: 1;position: relative;background-color: white;}#sk-container-id-3 div.sk-parallel-item:first-child::after {align-self: flex-end;width: 50%;}#sk-container-id-3 div.sk-parallel-item:last-child::after {align-self: flex-start;width: 50%;}#sk-container-id-3 div.sk-parallel-item:only-child::after {width: 0;}#sk-container-id-3 div.sk-dashed-wrapped {border: 1px dashed gray;margin: 0 0.4em 0.5em 0.4em;box-sizing: border-box;padding-bottom: 0.4em;background-color: white;}#sk-container-id-3 div.sk-label label {font-family: monospace;font-weight: bold;display: inline-block;line-height: 1.2em;}#sk-container-id-3 div.sk-label-container {text-align: center;}#sk-container-id-3 div.sk-container {/* jupyter's `normalize.less` sets `[hidden] { display: none; }` but bootstrap.min.css set `[hidden] { display: none !important; }` so we also need the `!important` here to be able to override the default hidden behavior on the sphinx rendered scikit-learn.org. See: https://github.com/scikit-learn/scikit-learn/issues/21755 */display: inline-block !important;position: relative;}#sk-container-id-3 div.sk-text-repr-fallback {display: none;}</style><div id=\"sk-container-id-3\" class=\"sk-top-container\"><div class=\"sk-text-repr-fallback\"><pre>SGDClassifier(random_state=101)</pre><b>In a Jupyter environment, please rerun this cell to show the HTML representation or trust the notebook. <br />On GitHub, the HTML representation is unable to render, please try loading this page with nbviewer.org.</b></div><div class=\"sk-container\" hidden><div class=\"sk-item\"><div class=\"sk-estimator sk-toggleable\"><input class=\"sk-toggleable__control sk-hidden--visually\" id=\"sk-estimator-id-3\" type=\"checkbox\" checked><label for=\"sk-estimator-id-3\" class=\"sk-toggleable__label sk-toggleable__label-arrow\">SGDClassifier</label><div class=\"sk-toggleable__content\"><pre>SGDClassifier(random_state=101)</pre></div></div></div></div></div>"
      ],
      "text/plain": [
       "SGDClassifier(random_state=101)"
      ]
     },
     "execution_count": 39,
     "metadata": {},
     "output_type": "execute_result"
    }
   ],
   "source": [
    "model_sgd.fit(X_train, y_train)"
   ]
  },
  {
   "cell_type": "code",
   "execution_count": 40,
   "id": "f29f92ba-c3cb-4b70-8529-5af49c22a9b1",
   "metadata": {},
   "outputs": [
    {
     "data": {
      "image/png": "[encoded data removed]",
      "text/plain": [
       "<Figure size 100x100 with 1 Axes>"
      ]
     },
     "metadata": {},
     "output_type": "display_data"
    },
    {
     "name": "stdout",
     "output_type": "stream",
     "text": [
      "Predicted class: [3]\n",
      "\n"
     ]
    }
   ],
   "source": [
    "plt.figure(figsize=(1,1))\n",
    "plot_digit(digit)\n",
    "plt.show()\n",
    "print(f\"Predicted class: {model_sgd.predict([digit])}\", end='\\n\\n')"
   ]
  },
  {
   "cell_type": "code",
   "execution_count": 41,
   "id": "dbe58ab2-5590-4d53-8f57-532540cd9d54",
   "metadata": {},
   "outputs": [
    {
     "data": {
      "text/plain": [
       "array([[-24989.80882484, -24235.21516272, -14912.11662661,\n",
       "          6672.31750783, -23925.34720457,  -9151.7566625 ,\n",
       "        -20653.33848906, -21248.64561505,  -7854.9790303 ,\n",
       "         -7232.84556679]])"
      ]
     },
     "execution_count": 41,
     "metadata": {},
     "output_type": "execute_result"
    }
   ],
   "source": [
    "model_sgd.decision_function([digit])"
   ]
  },
  {
   "cell_type": "code",
   "execution_count": 42,
   "id": "4b88af45-c215-426b-89f5-f611f561c5a8",
   "metadata": {},
   "outputs": [
    {
     "data": {
      "text/plain": [
       "array([0.86515, 0.8742 , 0.8772 ])"
      ]
     },
     "execution_count": 42,
     "metadata": {},
     "output_type": "execute_result"
    }
   ],
   "source": [
    "cross_val_score(model_sgd, X_train, y_train, cv=3, scoring='accuracy')"
   ]
  },
  {
   "cell_type": "code",
   "execution_count": 43,
   "id": "51d10c41-b1b5-4ff7-ad70-40268fe497e2",
   "metadata": {},
   "outputs": [
    {
     "name": "stdout",
     "output_type": "stream",
     "text": [
      "teste\n"
     ]
    }
   ],
   "source": [
    "print(\"teste\")"
   ]
  },
  {
   "cell_type": "code",
   "execution_count": null,
   "id": "7c60aec9-4abf-470a-a171-7c10e57f2937",
   "metadata": {},
   "outputs": [],
   "source": []
  }
 ],
 "metadata": {
  "kernelspec": {
   "display_name": "Python 3 (ipykernel)",
   "language": "python",
   "name": "python3"
  },
  "language_info": {
   "codemirror_mode": {
    "name": "ipython",
    "version": 3
   },
   "file_extension": ".py",
   "mimetype": "text/x-python",
   "name": "python",
   "nbconvert_exporter": "python",
   "pygments_lexer": "ipython3",
   "version": "3.10.9"
  }
 },
 "nbformat": 4,
 "nbformat_minor": 5
}
