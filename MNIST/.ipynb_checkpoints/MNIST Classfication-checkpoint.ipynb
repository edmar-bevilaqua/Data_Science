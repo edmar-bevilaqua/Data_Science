{
 "cells": [
  {
   "cell_type": "markdown",
   "id": "0cc5ae65-6559-477d-b220-b0acf819f809",
   "metadata": {},
   "source": [
    "<span style='font-size:20px'>\n",
    "\n",
    "# Using Classification Algorithms to Solve the MNIST Handwritten Numbers dataset\n",
    "\n",
    "</span>\n",
    "\n",
    "---\n",
    "\n",
    "<span style='font-size:22px'>This code was written by **Edmar Junyor Bevilaqua**, if you want to know a little more about me, feel free to visit my social media:</span>\n",
    "* <a href=\"https://www.linkedin.com/in/edmar-bevilaqua/\"><span style='font-size:22px'>LinkedIn</span></a>\n",
    "* <a href=\"https://github.com/edmar-bevilaqua\"><span style='font-size:22px'>GitHub</span></a>\n",
    "* <a href=\"https://www.instagram.com/edmar_bevilaqua/\"><span style='font-size:22px'>Instagram</span></a>\n",
    "\n",
    "---"
   ]
  },
  {
   "cell_type": "markdown",
   "id": "52fb667b-9b88-46c5-83ac-490c473850c5",
   "metadata": {
    "tags": []
   },
   "source": [
    "<span style='font-size:25px'><strong>Note:</strong></span><br>\n",
    "<span style='font-size:20px'>Most of the content you will see in this repository is based on projects I developed while learning Data Science, so if you want a more detailed and technical content, you can check the following books that I used to learn:</span><br>\n",
    "* <span style='font-size:20px'><i>\"Hands-On Machine Learning with Scikit-Learn, Keras &amp; TensorFlow\"</i>, written by <a href=\"https://github.com/ageron\"><strong>Aurélien Géron</strong></a> and published by <a href=\"https://www.oreilly.com/\"><strong>O'Reilly</strong></a></span>. <br><br>\n",
    "* <span style='font-size:20px'><i>\"Python for Data Analysis: Data Wrangling with Pandas, Numpy, and Jupyter\"</i>, written by <a href=\"https://github.com/wesm\"><strong>Wes McKinney</strong></a> and published by <a href=\"https://www.oreilly.com/\"><strong>O'Reilly</strong></a></span>. <br><br>\n",
    "* <span style='font-size:20px'><i>\"Aprendizado de Máquina - Uma Abordagem Estatística\"</i>, written by <a href=\"https://github.com/rizbicki\"><strong>Rafael Izbicki</strong></a> and <a href=\"https://tiagoms.com/\"><strong>Tiago Mendonça dos Santos</strong></a> and published by <a href=\"https://loja.uiclap.com/titulo/ua24032/\"><strong>UICLAP</strong></a></span>. <br>\n",
    "\n",
    "<span style='font-size:20px'>Those books inspired me to learn more and more about Data Science.</span>\n",
    "<br>"
   ]
  },
  {
   "cell_type": "markdown",
   "id": "64196d35-e9a9-4b33-a500-b08ee4daf333",
   "metadata": {},
   "source": [
    "<br>\n",
    "\n",
    "<span style='font-size:20px'>As said in the title of this Notebook, we will be using the MNIST dataset, which is a set of 70,000 small images of digits handwritten by high school students and employees of the <a href=\"https://www.census.gov/\"><strong>US Census Bureau</strong></a>. Each image is labeled with the digit it represents.<br><br>\n",
    "    This set has been studied so much that it is often called the “hello world” of Machine Learning: whenever people come up with a new classification algorithm they are curious to see how it will perform on MNIST, and anyone who learns Machine Learning tackles this dataset sooner or later.</span>"
   ]
  },
  {
   "cell_type": "markdown",
   "id": "f2c6968b-4410-465b-a62e-4c29190fcbc2",
   "metadata": {},
   "source": [
    "# Importing the Dataset\n",
    "---\n",
    "<span style='font-size:20px'>This dataset is so famous that it is available inside the Scikit-Learn library:</span>"
   ]
  },
  {
   "cell_type": "code",
   "execution_count": 1,
   "id": "3f45d812-4372-4205-ab89-f2c8ec92a0ff",
   "metadata": {},
   "outputs": [
    {
     "data": {
      "text/plain": [
       "dict_keys(['data', 'target', 'frame', 'categories', 'feature_names', 'target_names', 'DESCR', 'details', 'url'])"
      ]
     },
     "execution_count": 1,
     "metadata": {},
     "output_type": "execute_result"
    }
   ],
   "source": [
    "from sklearn.datasets import fetch_openml\n",
    "\n",
    "mnist = fetch_openml('mnist_784', version=1, parser='auto', as_frame=False) # The _784 is because this dataset is composed of 784 features (28 x 28 = 784 pixels images).\n",
    "mnist.keys() # By default Scikit-Learn caches downloaded datasets in a directory called $HOME/scikit_learn_data."
   ]
  },
  {
   "cell_type": "markdown",
   "id": "108697cf-c5b2-4e8f-9b6a-b4738aa385c3",
   "metadata": {},
   "source": [
    "<br>\n",
    "<span style='font-size:25px'><strong>Note:</strong></span>\n",
    "\n",
    "<br>\n",
    "\n",
    "<span style='font-size:20px'>Datasets loaded by Scikit-Learn generally have a similar dictionary structure, including the following:</span>\n",
    "<br>\n",
    "* <span style='font-size:20px'>A DESCR key describing the dataset;</span>\n",
    "\n",
    "* <span style='font-size:20px'>A data key containing an array with one row per instance and one column per feature;</span>\n",
    "\n",
    "* <span style='font-size:20px'>A target key containing an array with the labels.</span>\n",
    "\n",
    "<br>"
   ]
  },
  {
   "cell_type": "code",
   "execution_count": 2,
   "id": "cc87db6c-6976-406d-872c-3207ba849ec3",
   "metadata": {},
   "outputs": [
    {
     "name": "stdout",
     "output_type": "stream",
     "text": [
      "**Author**: Yann LeCun, Corinna Cortes, Christopher J.C. Burges  \n",
      "**Source**: [MNIST Website](http://yann.lecun.com/exdb/mnist/) - Date unknown  \n",
      "**Please cite**:  \n",
      "\n",
      "The MNIST database of handwritten digits with 784 features, raw data available at: http://yann.lecun.com/exdb/mnist/. It can be split in a training set of the first 60,000 examples, and a test set of 10,000 examples  \n",
      "\n",
      "It is a subset of a larger set available from NIST. The digits have been size-normalized and centered in a fixed-size image. It is a good database for people who want to try learning techniques and pattern recognition methods on real-world data while spending minimal efforts on preprocessing and formatting. The original black and white (bilevel) images from NIST were size normalized to fit in a 20x20 pixel box while preserving their aspect ratio. The resulting images contain grey levels as a result of the anti-aliasing technique used by the normalization algorithm. the images were centered in a 28x28 image by computing the center of mass of the pixels, and translating the image so as to position this point at the center of the 28x28 field.  \n",
      "\n",
      "With some classification methods (particularly template-based methods, such as SVM and K-nearest neighbors), the error rate improves when the digits are centered by bounding box rather than center of mass. If you do this kind of pre-processing, you should report it in your publications. The MNIST database was constructed from NIST's NIST originally designated SD-3 as their training set and SD-1 as their test set. However, SD-3 is much cleaner and easier to recognize than SD-1. The reason for this can be found on the fact that SD-3 was collected among Census Bureau employees, while SD-1 was collected among high-school students. Drawing sensible conclusions from learning experiments requires that the result be independent of the choice of training set and test among the complete set of samples. Therefore it was necessary to build a new database by mixing NIST's datasets.  \n",
      "\n",
      "The MNIST training set is composed of 30,000 patterns from SD-3 and 30,000 patterns from SD-1. Our test set was composed of 5,000 patterns from SD-3 and 5,000 patterns from SD-1. The 60,000 pattern training set contained examples from approximately 250 writers. We made sure that the sets of writers of the training set and test set were disjoint. SD-1 contains 58,527 digit images written by 500 different writers. In contrast to SD-3, where blocks of data from each writer appeared in sequence, the data in SD-1 is scrambled. Writer identities for SD-1 is available and we used this information to unscramble the writers. We then split SD-1 in two: characters written by the first 250 writers went into our new training set. The remaining 250 writers were placed in our test set. Thus we had two sets with nearly 30,000 examples each. The new training set was completed with enough examples from SD-3, starting at pattern # 0, to make a full set of 60,000 training patterns. Similarly, the new test set was completed with SD-3 examples starting at pattern # 35,000 to make a full set with 60,000 test patterns. Only a subset of 10,000 test images (5,000 from SD-1 and 5,000 from SD-3) is available on this site. The full 60,000 sample training set is available.\n",
      "\n",
      "Downloaded from openml.org.\n"
     ]
    }
   ],
   "source": [
    "print(mnist.DESCR) # Note from the creators:"
   ]
  },
  {
   "cell_type": "code",
   "execution_count": 3,
   "id": "8ba6ebb4-58e5-4873-a9f9-0f11995c4fde",
   "metadata": {},
   "outputs": [
    {
     "name": "stdout",
     "output_type": "stream",
     "text": [
      "(70000, 784)\n",
      "(70000,)\n"
     ]
    }
   ],
   "source": [
    "X = mnist['data']\n",
    "y = mnist['target']\n",
    "\n",
    "print(X.shape)\n",
    "print(y.shape)"
   ]
  },
  {
   "cell_type": "markdown",
   "id": "a1d23c08-cc74-4a0b-a09d-7e578fce4274",
   "metadata": {},
   "source": [
    "<br>\n",
    "\n",
    "<span style='font-size:20px'>\n",
    "    There are 70,000 images in this dataset, each containing 784 features.<br>\n",
    "    This is because each image is 28 × 28 pixels, and each feature simply represents one pixel’s intensity, from 0 (white) to 255 (black). Let’s take a peek at one digit from the dataset. All you need to do is grab an instance’s feature vector, reshape it to a 28 × 28 array, and display it using Matplotlib’s imshow() function:\n",
    "</span><br><br>"
   ]
  },
  {
   "cell_type": "code",
   "execution_count": 17,
   "id": "321ea53c-4169-45b1-a3f0-9ab3bc99fd64",
   "metadata": {},
   "outputs": [
    {
     "data": {
      "image/png": "[encoded data removed]",
      "text/plain": [
       "<Figure size 640x480 with 1 Axes>"
      ]
     },
     "metadata": {},
     "output_type": "display_data"
    },
    {
     "name": "stdout",
     "output_type": "stream",
     "text": [
      "Target Value: 6\n"
     ]
    }
   ],
   "source": [
    "import matplotlib as mpl\n",
    "import matplotlib.pyplot as plt\n",
    "import numpy as np\n",
    "\n",
    "def plot_digit(image_data):\n",
    "    image = image_data.reshape(28, 28)\n",
    "    plt.imshow(image, cmap=\"binary\")\n",
    "    plt.axis(\"off\")\n",
    "\n",
    "digit_number = np.random.randint(low=0, high=70000)\n",
    "digit = X[digit_number]\n",
    "plot_digit(digit)\n",
    "plt.show()\n",
    "print(f'Target Value: {y[digit_number]}')"
   ]
  },
  {
   "cell_type": "code",
   "execution_count": 5,
   "id": "3fe4bf3b-fdb3-4b4e-9aa4-9efbc82abf67",
   "metadata": {},
   "outputs": [
    {
     "name": "stdout",
     "output_type": "stream",
     "text": [
      "Type of target value: <class 'str'>\n"
     ]
    }
   ],
   "source": [
    "print(f'Type of target value: {type(y[0])}') # Most ML expect numbers, so lets change the type of our target array.\n",
    "\n",
    "y = y.astype(np.uint8)"
   ]
  },
  {
   "cell_type": "markdown",
   "id": "f0e31790-f32f-4796-95ed-83370b92bdd9",
   "metadata": {},
   "source": [
    "\n",
    "---\n",
    "\n",
    "<span style='font-size:25px'>\n",
    "    Ploting a quick view of the first 25 digits in our dataset to demonstrate the complexity:\n",
    "</span>\n",
    "\n",
    "---\n",
    "<br>"
   ]
  },
  {
   "cell_type": "code",
   "execution_count": 6,
   "id": "af935b0b-ea39-41f5-a023-108ebf4f0ea6",
   "metadata": {},
   "outputs": [
    {
     "data": {
      "image/png": "[encoded data removed]",
      "text/plain": [
       "<Figure size 800x800 with 25 Axes>"
      ]
     },
     "metadata": {},
     "output_type": "display_data"
    }
   ],
   "source": [
    "plt.figure(figsize=(8, 8))\n",
    "for idx, image_data in enumerate(X[:25]):\n",
    "    plt.subplot(5, 5, idx + 1)\n",
    "    plot_digit(image_data)\n",
    "plt.subplots_adjust(wspace=0, hspace=0)\n",
    "plt.show()"
   ]
  },
  {
   "cell_type": "markdown",
   "id": "b9245ae4-cf50-4021-8c8d-c0fe8798e8c3",
   "metadata": {},
   "source": [
    "<span style='font-size:25px'>\n",
    "    \n",
    "# Splitting the set into Train and Test:\n",
    "    \n",
    "</span>\n",
    "\n",
    "---\n",
    "\n",
    "<span style='font-size:20px'>\n",
    "    Hopefully, as we imported this set from Scikit-Learn library, it is already splitted:<br>\n",
    "    The first 60,000 rows are for the training set, and the last 10,000 rows are for the test set.<br>\n",
    "    Don't worry, the data is already shuffled and the test set is representative (contains approximately the same amount of each digit).\n",
    "</span>\n",
    "<br><br>"
   ]
  },
  {
   "cell_type": "code",
   "execution_count": 7,
   "id": "29fde13b-e940-450a-8c7a-85d747dea101",
   "metadata": {},
   "outputs": [],
   "source": [
    "X_train, X_test, y_train, y_test = X[:60000], X[60000:], y[:60000], y[60000:]"
   ]
  },
  {
   "cell_type": "markdown",
   "id": "fe58187a-5eed-4cc1-b61e-5b1efd9a31f8",
   "metadata": {},
   "source": [
    "<span style='font-size:22px'>\n",
    "    \n",
    "## Starting with a very simple classifier\n",
    "    \n",
    "</span>\n",
    "\n",
    "---\n",
    "\n",
    "<span style='font-size:20px'>\n",
    "    To keep it simple in the beggining of our notebook, let's choose a number (in this case my favorite number: <strong>7</strong> )<br>\n",
    "    Lets call this the \"<i>Ultra 7 Detector Machine</i>\"\n",
    "</span>\n",
    "<br><br>"
   ]
  },
  {
   "cell_type": "code",
   "execution_count": 8,
   "id": "ef0fb379-c429-4a26-815e-483672536ddb",
   "metadata": {},
   "outputs": [],
   "source": [
    "# Code adaptation to consider only the target = 7 as True.\n",
    "\n",
    "y_train_7 = (y_train == 7)\n",
    "y_test_7 = (y_test == 7)"
   ]
  },
  {
   "cell_type": "code",
   "execution_count": 15,
   "id": "5ba65b3b-b3af-4e5a-932f-fddf8a792ebc",
   "metadata": {},
   "outputs": [
    {
     "data": {
      "text/html": [
       "<style>#sk-container-id-1 {color: black;background-color: white;}#sk-container-id-1 pre{padding: 0;}#sk-container-id-1 div.sk-toggleable {background-color: white;}#sk-container-id-1 label.sk-toggleable__label {cursor: pointer;display: block;width: 100%;margin-bottom: 0;padding: 0.3em;box-sizing: border-box;text-align: center;}#sk-container-id-1 label.sk-toggleable__label-arrow:before {content: \"▸\";float: left;margin-right: 0.25em;color: #696969;}#sk-container-id-1 label.sk-toggleable__label-arrow:hover:before {color: black;}#sk-container-id-1 div.sk-estimator:hover label.sk-toggleable__label-arrow:before {color: black;}#sk-container-id-1 div.sk-toggleable__content {max-height: 0;max-width: 0;overflow: hidden;text-align: left;background-color: #f0f8ff;}#sk-container-id-1 div.sk-toggleable__content pre {margin: 0.2em;color: black;border-radius: 0.25em;background-color: #f0f8ff;}#sk-container-id-1 input.sk-toggleable__control:checked~div.sk-toggleable__content {max-height: 200px;max-width: 100%;overflow: auto;}#sk-container-id-1 input.sk-toggleable__control:checked~label.sk-toggleable__label-arrow:before {content: \"▾\";}#sk-container-id-1 div.sk-estimator input.sk-toggleable__control:checked~label.sk-toggleable__label {background-color: #d4ebff;}#sk-container-id-1 div.sk-label input.sk-toggleable__control:checked~label.sk-toggleable__label {background-color: #d4ebff;}#sk-container-id-1 input.sk-hidden--visually {border: 0;clip: rect(1px 1px 1px 1px);clip: rect(1px, 1px, 1px, 1px);height: 1px;margin: -1px;overflow: hidden;padding: 0;position: absolute;width: 1px;}#sk-container-id-1 div.sk-estimator {font-family: monospace;background-color: #f0f8ff;border: 1px dotted black;border-radius: 0.25em;box-sizing: border-box;margin-bottom: 0.5em;}#sk-container-id-1 div.sk-estimator:hover {background-color: #d4ebff;}#sk-container-id-1 div.sk-parallel-item::after {content: \"\";width: 100%;border-bottom: 1px solid gray;flex-grow: 1;}#sk-container-id-1 div.sk-label:hover label.sk-toggleable__label {background-color: #d4ebff;}#sk-container-id-1 div.sk-serial::before {content: \"\";position: absolute;border-left: 1px solid gray;box-sizing: border-box;top: 0;bottom: 0;left: 50%;z-index: 0;}#sk-container-id-1 div.sk-serial {display: flex;flex-direction: column;align-items: center;background-color: white;padding-right: 0.2em;padding-left: 0.2em;position: relative;}#sk-container-id-1 div.sk-item {position: relative;z-index: 1;}#sk-container-id-1 div.sk-parallel {display: flex;align-items: stretch;justify-content: center;background-color: white;position: relative;}#sk-container-id-1 div.sk-item::before, #sk-container-id-1 div.sk-parallel-item::before {content: \"\";position: absolute;border-left: 1px solid gray;box-sizing: border-box;top: 0;bottom: 0;left: 50%;z-index: -1;}#sk-container-id-1 div.sk-parallel-item {display: flex;flex-direction: column;z-index: 1;position: relative;background-color: white;}#sk-container-id-1 div.sk-parallel-item:first-child::after {align-self: flex-end;width: 50%;}#sk-container-id-1 div.sk-parallel-item:last-child::after {align-self: flex-start;width: 50%;}#sk-container-id-1 div.sk-parallel-item:only-child::after {width: 0;}#sk-container-id-1 div.sk-dashed-wrapped {border: 1px dashed gray;margin: 0 0.4em 0.5em 0.4em;box-sizing: border-box;padding-bottom: 0.4em;background-color: white;}#sk-container-id-1 div.sk-label label {font-family: monospace;font-weight: bold;display: inline-block;line-height: 1.2em;}#sk-container-id-1 div.sk-label-container {text-align: center;}#sk-container-id-1 div.sk-container {/* jupyter's `normalize.less` sets `[hidden] { display: none; }` but bootstrap.min.css set `[hidden] { display: none !important; }` so we also need the `!important` here to be able to override the default hidden behavior on the sphinx rendered scikit-learn.org. See: https://github.com/scikit-learn/scikit-learn/issues/21755 */display: inline-block !important;position: relative;}#sk-container-id-1 div.sk-text-repr-fallback {display: none;}</style><div id=\"sk-container-id-1\" class=\"sk-top-container\"><div class=\"sk-text-repr-fallback\"><pre>SGDClassifier(random_state=101)</pre><b>In a Jupyter environment, please rerun this cell to show the HTML representation or trust the notebook. <br />On GitHub, the HTML representation is unable to render, please try loading this page with nbviewer.org.</b></div><div class=\"sk-container\" hidden><div class=\"sk-item\"><div class=\"sk-estimator sk-toggleable\"><input class=\"sk-toggleable__control sk-hidden--visually\" id=\"sk-estimator-id-1\" type=\"checkbox\" checked><label for=\"sk-estimator-id-1\" class=\"sk-toggleable__label sk-toggleable__label-arrow\">SGDClassifier</label><div class=\"sk-toggleable__content\"><pre>SGDClassifier(random_state=101)</pre></div></div></div></div></div>"
      ],
      "text/plain": [
       "SGDClassifier(random_state=101)"
      ]
     },
     "execution_count": 15,
     "metadata": {},
     "output_type": "execute_result"
    }
   ],
   "source": [
    "from sklearn.linear_model import SGDClassifier # SGD stands for \"Stocastic Gradient Descent\", which is a type for the loss function\n",
    "\n",
    "model_sgd = SGDClassifier(random_state=101)\n",
    "model_sgd.fit(X_train, y_train_7)"
   ]
  },
  {
   "cell_type": "markdown",
   "id": "f77a8f5b-ad2b-4723-90e8-c646788c4281",
   "metadata": {},
   "source": [
    "<br>\n",
    "\n",
    "---\n",
    "\n",
    "<span style='font-size:20px'>\n",
    "    Let's see how is his performance:\n",
    "</span>\n",
    "\n",
    "---\n",
    "\n",
    "<br>"
   ]
  },
  {
   "cell_type": "code",
   "execution_count": 35,
   "id": "6d9e7b70-c334-4b43-831b-1339305dc4e0",
   "metadata": {},
   "outputs": [
    {
     "data": {
      "image/png": "[encoded data removed]",
      "text/plain": [
       "<Figure size 50x50 with 1 Axes>"
      ]
     },
     "metadata": {},
     "output_type": "display_data"
    },
    {
     "name": "stdout",
     "output_type": "stream",
     "text": [
      "[False]\n",
      "\n"
     ]
    },
    {
     "data": {
      "image/png": "[encoded data removed]",
      "text/plain": [
       "<Figure size 50x50 with 1 Axes>"
      ]
     },
     "metadata": {},
     "output_type": "display_data"
    },
    {
     "name": "stdout",
     "output_type": "stream",
     "text": [
      "[False]\n",
      "\n"
     ]
    },
    {
     "data": {
      "image/png": "[encoded data removed]",
      "text/plain": [
       "<Figure size 50x50 with 1 Axes>"
      ]
     },
     "metadata": {},
     "output_type": "display_data"
    },
    {
     "name": "stdout",
     "output_type": "stream",
     "text": [
      "[False]\n",
      "\n"
     ]
    },
    {
     "data": {
      "image/png": "[encoded data removed]",
      "text/plain": [
       "<Figure size 50x50 with 1 Axes>"
      ]
     },
     "metadata": {},
     "output_type": "display_data"
    },
    {
     "name": "stdout",
     "output_type": "stream",
     "text": [
      "[False]\n",
      "\n"
     ]
    },
    {
     "data": {
      "image/png": "[encoded data removed]",
      "text/plain": [
       "<Figure size 50x50 with 1 Axes>"
      ]
     },
     "metadata": {},
     "output_type": "display_data"
    },
    {
     "name": "stdout",
     "output_type": "stream",
     "text": [
      "[False]\n",
      "\n"
     ]
    },
    {
     "data": {
      "image/png": "[encoded data removed]",
      "text/plain": [
       "<Figure size 50x50 with 1 Axes>"
      ]
     },
     "metadata": {},
     "output_type": "display_data"
    },
    {
     "name": "stdout",
     "output_type": "stream",
     "text": [
      "[ True]\n",
      "\n"
     ]
    },
    {
     "data": {
      "image/png": "[encoded data removed]",
      "text/plain": [
       "<Figure size 50x50 with 1 Axes>"
      ]
     },
     "metadata": {},
     "output_type": "display_data"
    },
    {
     "name": "stdout",
     "output_type": "stream",
     "text": [
      "[False]\n",
      "\n"
     ]
    },
    {
     "data": {
      "image/png": "[encoded data removed]",
      "text/plain": [
       "<Figure size 50x50 with 1 Axes>"
      ]
     },
     "metadata": {},
     "output_type": "display_data"
    },
    {
     "name": "stdout",
     "output_type": "stream",
     "text": [
      "[False]\n",
      "\n"
     ]
    },
    {
     "data": {
      "image/png": "[encoded data removed]",
      "text/plain": [
       "<Figure size 50x50 with 1 Axes>"
      ]
     },
     "metadata": {},
     "output_type": "display_data"
    },
    {
     "name": "stdout",
     "output_type": "stream",
     "text": [
      "[False]\n",
      "\n"
     ]
    },
    {
     "data": {
      "image/png": "[encoded data removed]",
      "text/plain": [
       "<Figure size 50x50 with 1 Axes>"
      ]
     },
     "metadata": {},
     "output_type": "display_data"
    },
    {
     "name": "stdout",
     "output_type": "stream",
     "text": [
      "[ True]\n",
      "\n"
     ]
    }
   ],
   "source": [
    "for i in range(10, 20, 1):\n",
    "    digit = X[i]\n",
    "    plt.figure(figsize=(0.5,0.5))\n",
    "    plot_digit(digit)\n",
    "    plt.show()\n",
    "    print(model_sgd.predict(digit.reshape(1,-1)), end='\\n\\n')"
   ]
  },
  {
   "cell_type": "markdown",
   "id": "2554fdeb-b5c2-4e76-8e03-89da5c2589c7",
   "metadata": {},
   "source": [
    "<br>\n",
    "\n",
    "<span style='font-size:20px'>\n",
    "    As we can see in the above output, the model said that the only number 7 plotted was True, which is correct, but the model also detected the last plot (number 9) as True, which is an error!\n",
    "</span>\n",
    "<br>\n",
    "<br>"
   ]
  },
  {
   "cell_type": "markdown",
   "id": "9987a119-1a0b-4802-9242-afef61c8d6bb",
   "metadata": {},
   "source": [
    "<span style='font-size:25px'>\n",
    "\n",
    "# Measuring the Performance of Classification Models\n",
    "    \n",
    "</span>\n",
    "\n",
    "---\n",
    "\n",
    "<span style='font-size:20px'>\n",
    "    Evaluating a classifier is often significantly trickier than evaluating a regressor, so we will spend some time on this topic. There are many performance measures available, let's discuss about some new concepts and acronyms!\n",
    "</span>\n",
    "<br>\n",
    "<br>\n",
    "<br>"
   ]
  },
  {
   "cell_type": "markdown",
   "id": "1ac17e8f-085e-4bcd-aee2-190b8bb8c5d8",
   "metadata": {},
   "source": [
    "<span style='font-size:20px'>\n",
    "\n",
    "## Measuring Accuracy Using Cross-Validation\n",
    "    \n",
    "</span>\n",
    "\n",
    "---\n",
    "\n",
    "<span style='font-size:20px'>\n",
    "    We can use the Scikit-Learn cross-validation\n",
    "</span>\n",
    "<br>\n",
    "<br>"
   ]
  },
  {
   "cell_type": "code",
   "execution_count": 48,
   "id": "0d987778-48d7-44bf-aabb-4d7b08e28910",
   "metadata": {},
   "outputs": [
    {
     "data": {
      "text/plain": [
       "array([0.9761, 0.9785, 0.9758])"
      ]
     },
     "execution_count": 48,
     "metadata": {},
     "output_type": "execute_result"
    }
   ],
   "source": [
    "from sklearn.model_selection import cross_val_score\n",
    "\n",
    "cross_val_score(model_sgd, X_train, y_train_7, cv=3, scoring='accuracy')"
   ]
  },
  {
   "cell_type": "markdown",
   "id": "b18cbe98-52f3-4e42-87d7-cfbc6d956e98",
   "metadata": {},
   "source": [
    "<br>\n",
    "<span style='font-size:20px'>\n",
    "    Nice, all the 3 folds from Cross-validadtion was at least 97% accuracy, thas very good right?<br>\n",
    "    Well, it depends. Let's try something different. Let's create a model that always say that the number is not 7 (The classifier returns False for everything!)\n",
    "</span>\n",
    "<br>\n",
    "<br>"
   ]
  },
  {
   "cell_type": "code",
   "execution_count": 51,
   "id": "a58d6804-d80d-4cc2-80ed-e82c3de956f2",
   "metadata": {},
   "outputs": [],
   "source": [
    "from sklearn.base import BaseEstimator\n",
    "\n",
    "class Never7Classifier(BaseEstimator): # This class doesn't need the __init__ method because it don't have any hyperparameter\n",
    "    def fit(self, X, y=None): # y=None for compatibility\n",
    "        return self # The model does nothing!\n",
    "    \n",
    "    def predict(self, X):\n",
    "        return np.zeros((len(X), 1), dtype=bool) # The model returns 0 for all predictions of X!"
   ]
  },
  {
   "cell_type": "code",
   "execution_count": 52,
   "id": "fefdd91d-185d-4c22-abd6-7bf22a7f6d6b",
   "metadata": {},
   "outputs": [
    {
     "data": {
      "text/plain": [
       "array([0.89535, 0.8984 , 0.893  ])"
      ]
     },
     "execution_count": 52,
     "metadata": {},
     "output_type": "execute_result"
    }
   ],
   "source": [
    "never_7 = Never7Classifier()\n",
    "cross_val_score(never_7, X_train, y_train_7, cv=3, scoring='accuracy')"
   ]
  },
  {
   "cell_type": "markdown",
   "id": "6ad105d7-a3b6-44cd-ab0b-77bde7c66f3e",
   "metadata": {},
   "source": [
    "<br>\n",
    "<span style='font-size:20px'>\n",
    "    Hummmmmm, that's quite interesting, isn't it?<br>\n",
    "    Even the dumbest of the models (always return False) get's at least 89% accuracy. This is simply because only about 10% of the images are 7s, so if you always guess that an image is not a 7, you will be right about 90% of the time.<br>\n",
    "    This demonstrates why accuracy is generally not the preferred performance measure for classifiers, especially when you are dealing with skewed datasets (i.e., when some classes are much more frequent than others - In our case: 90% aren't a 7s and only 10% are 7s).\n",
    "</span>\n",
    "<br>\n",
    "<br>"
   ]
  },
  {
   "cell_type": "markdown",
   "id": "ebd7bb1a-b4b4-464d-bf5a-a10a696ba0fa",
   "metadata": {},
   "source": [
    "<span style='font-size:20px'>\n",
    "\n",
    "## Confusion Matrix\n",
    "    \n",
    "</span>\n",
    "\n",
    "---\n",
    "\n",
    "<span style='font-size:20px'>\n",
    "    A much better way to evaluate the performance of a classifier is to look at the confusion matrix.<br>The general idea is to count the number of times instances of class A were classified as class A or something else. For example, to know the number of times the classifier got it right or got confused.\n",
    "</span>\n",
    "<br>\n",
    "<br>"
   ]
  },
  {
   "cell_type": "code",
   "execution_count": 56,
   "id": "adc8ae1e-7358-46e6-bf8e-a4b050f45637",
   "metadata": {},
   "outputs": [
    {
     "data": {
      "text/plain": [
       "<sklearn.metrics._plot.confusion_matrix.ConfusionMatrixDisplay at 0x221a0dda170>"
      ]
     },
     "execution_count": 56,
     "metadata": {},
     "output_type": "execute_result"
    }
   ],
   "source": [
    "from sklearn.model_selection import cross_val_predict # This method returns the predictions made on each test fold\n",
    "\n",
    "y_train_predictions = cross_val_predict(model_sgd, X_train, y_train_7, cv=3)"
   ]
  },
  {
   "cell_type": "code",
   "execution_count": 57,
   "id": "2a65dad2-46a4-4e08-8550-9f0060d230fe",
   "metadata": {},
   "outputs": [
    {
     "data": {
      "text/plain": [
       "<sklearn.metrics._plot.confusion_matrix.ConfusionMatrixDisplay at 0x221a0e56200>"
      ]
     },
     "execution_count": 57,
     "metadata": {},
     "output_type": "execute_result"
    },
    {
     "data": {
      "image/png": "[encoded data removed]",
      "text/plain": [
       "<Figure size 640x480 with 2 Axes>"
      ]
     },
     "metadata": {},
     "output_type": "display_data"
    }
   ],
   "source": [
    "from sklearn.metrics import confusion_matrix, ConfusionMatrixDisplay\n",
    "\n",
    "conf_matrix = confusion_matrix(y_train_7, y_train_predictions)\n",
    "ConfusionMatrixDisplay(conf_matrix).plot()"
   ]
  },
  {
   "cell_type": "markdown",
   "id": "a2bc3e08-c8dd-4b8d-85c7-286c2f30fc54",
   "metadata": {},
   "source": [
    "<br>\n",
    "<span style='font-size:20px'>\n",
    "    Each row in a confusion matrix represents an actual class, while each column represents a predicted class.<br>\n",
    "    The first row of this matrix considers non-7 images (the negative class): 53,337 of them were correctly classified as non-7s (they are called True Negatives - TN), while the remaining 398 were wrongly classified as 7s (False Positives - FP).<br> The second row considers the images of 7s (the positive class): 994 were wrongly classified as non-7s (False Negatives - FN), while the remaining 5,271 were correctly classified as 7s (True Positives - TP). A perfect classifier would have only true positives and true negatives, so its confusion matrix would have nonzero values only on its main diagonal (top left to bottom right):\n",
    "</span>\n",
    "<br>\n",
    "<br>"
   ]
  },
  {
   "cell_type": "markdown",
   "id": "c2e9c188-84f0-4d11-93f0-caa72bf6f213",
   "metadata": {},
   "source": [
    "<br>\n",
    "\n",
    "---\n",
    "\n",
    "<span style='font-size:20px'>\n",
    "    Simulating a perfect classifier:\n",
    "</span>\n",
    "\n",
    "---\n",
    "\n",
    "<br>"
   ]
  },
  {
   "cell_type": "code",
   "execution_count": 59,
   "id": "b3b453e3-bc0f-4b89-a837-e5ae5bad43e2",
   "metadata": {},
   "outputs": [
    {
     "data": {
      "image/png": "[encoded data removed]",
      "text/plain": [
       "<Figure size 640x480 with 2 Axes>"
      ]
     },
     "metadata": {},
     "output_type": "display_data"
    }
   ],
   "source": [
    "conf_matrix = confusion_matrix(y_train_7, y_train_7) # Pretending that both the prediction and the true label are equal!\n",
    "ConfusionMatrixDisplay(conf_matrix).plot()\n",
    "plt.show()"
   ]
  },
  {
   "cell_type": "markdown",
   "id": "cfa70835-caf2-4464-860c-928860470d1d",
   "metadata": {},
   "source": [
    "<span style='font-size:20px'>\n",
    "\n",
    "### Precision\n",
    "    \n",
    "</span>\n",
    "\n",
    "---\n",
    "\n",
    "<span style='font-size:20px'>\n",
    "    Precision is the accuracy of the positive predictions from the classifier<br>\n",
    "    It is defined by: Precision = TP / (TP + FP)\n",
    "</span>\n",
    "<br>\n",
    "<br>\n"
   ]
  },
  {
   "cell_type": "code",
   "execution_count": null,
   "id": "935852d4-3fda-4c26-9d83-dcf008021e80",
   "metadata": {},
   "outputs": [],
   "source": []
  }
 ],
 "metadata": {
  "kernelspec": {
   "display_name": "Python 3 (ipykernel)",
   "language": "python",
   "name": "python3"
  },
  "language_info": {
   "codemirror_mode": {
    "name": "ipython",
    "version": 3
   },
   "file_extension": ".py",
   "mimetype": "text/x-python",
   "name": "python",
   "nbconvert_exporter": "python",
   "pygments_lexer": "ipython3",
   "version": "3.10.9"
  }
 },
 "nbformat": 4,
 "nbformat_minor": 5
}
