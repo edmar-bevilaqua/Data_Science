{
 "cells": [
  {
   "cell_type": "markdown",
   "id": "56f4413b-70ed-4933-83d6-4d02f0ac40c3",
   "metadata": {},
   "source": [
    "# Importando o Dataset da UNESCO sobre imigrantes e emigrantes\n",
    "---"
   ]
  },
  {
   "cell_type": "code",
   "execution_count": 1,
   "id": "2fbcb3cf-bbfa-4a7d-b650-371e9622a81b",
   "metadata": {},
   "outputs": [],
   "source": [
    "import pandas as pd\n",
    "import matplotlib.pyplot as plt\n",
    "import seaborn as sns\n",
    "import plotly.express as px\n",
    "import numpy as np"
   ]
  },
  {
   "cell_type": "code",
   "execution_count": 5,
   "id": "bfe6ed5b-2dcc-4cbb-9e0d-f1d4441b625a",
   "metadata": {},
   "outputs": [
    {
     "data": {
      "text/html": [
       "<div>\n",
       "<style scoped>\n",
       "    .dataframe tbody tr th:only-of-type {\n",
       "        vertical-align: middle;\n",
       "    }\n",
       "\n",
       "    .dataframe tbody tr th {\n",
       "        vertical-align: top;\n",
       "    }\n",
       "\n",
       "    .dataframe thead th {\n",
       "        text-align: right;\n",
       "    }\n",
       "</style>\n",
       "<table border=\"1\" class=\"dataframe\">\n",
       "  <thead>\n",
       "    <tr style=\"text-align: right;\">\n",
       "      <th></th>\n",
       "      <th>country</th>\n",
       "      <th>country_code</th>\n",
       "      <th>continent</th>\n",
       "      <th>total_inbound</th>\n",
       "      <th>total_outbound</th>\n",
       "      <th>gdp</th>\n",
       "      <th>year</th>\n",
       "    </tr>\n",
       "  </thead>\n",
       "  <tbody>\n",
       "    <tr>\n",
       "      <th>0</th>\n",
       "      <td>Serbia</td>\n",
       "      <td>SRB</td>\n",
       "      <td>Europe</td>\n",
       "      <td>6988</td>\n",
       "      <td>11648</td>\n",
       "      <td>5848</td>\n",
       "      <td>2007</td>\n",
       "    </tr>\n",
       "    <tr>\n",
       "      <th>1</th>\n",
       "      <td>Serbia</td>\n",
       "      <td>SRB</td>\n",
       "      <td>Europe</td>\n",
       "      <td>11259</td>\n",
       "      <td>11354</td>\n",
       "      <td>7101</td>\n",
       "      <td>2008</td>\n",
       "    </tr>\n",
       "    <tr>\n",
       "      <th>2</th>\n",
       "      <td>Serbia</td>\n",
       "      <td>SRB</td>\n",
       "      <td>Europe</td>\n",
       "      <td>10408</td>\n",
       "      <td>12250</td>\n",
       "      <td>6169</td>\n",
       "      <td>2009</td>\n",
       "    </tr>\n",
       "    <tr>\n",
       "      <th>3</th>\n",
       "      <td>Serbia</td>\n",
       "      <td>SRB</td>\n",
       "      <td>Europe</td>\n",
       "      <td>9483</td>\n",
       "      <td>12393</td>\n",
       "      <td>5735</td>\n",
       "      <td>2010</td>\n",
       "    </tr>\n",
       "    <tr>\n",
       "      <th>4</th>\n",
       "      <td>Serbia</td>\n",
       "      <td>SRB</td>\n",
       "      <td>Europe</td>\n",
       "      <td>8242</td>\n",
       "      <td>13108</td>\n",
       "      <td>6809</td>\n",
       "      <td>2011</td>\n",
       "    </tr>\n",
       "  </tbody>\n",
       "</table>\n",
       "</div>"
      ],
      "text/plain": [
       "  country country_code continent  total_inbound  total_outbound   gdp  year\n",
       "0  Serbia          SRB    Europe           6988           11648  5848  2007\n",
       "1  Serbia          SRB    Europe          11259           11354  7101  2008\n",
       "2  Serbia          SRB    Europe          10408           12250  6169  2009\n",
       "3  Serbia          SRB    Europe           9483           12393  5735  2010\n",
       "4  Serbia          SRB    Europe           8242           13108  6809  2011"
      ]
     },
     "execution_count": 5,
     "metadata": {},
     "output_type": "execute_result"
    }
   ],
   "source": [
    "dataset = pd.read_csv(filepath_or_buffer=\"./total_inbound_outbound_gdp.csv\", index_col=\"Unnamed: 0\")\n",
    "dataset.head()"
   ]
  },
  {
   "cell_type": "code",
   "execution_count": 10,
   "id": "347d0dcf-c80f-4468-91af-0e9bf07470b4",
   "metadata": {},
   "outputs": [
    {
     "data": {
      "image/png": "[encoded data removed]",
      "text/plain": [
       "<Figure size 1200x800 with 1 Axes>"
      ]
     },
     "metadata": {},
     "output_type": "display_data"
    }
   ],
   "source": [
    "ax = sns.barplot(x=dataset['year'], y=dataset['total_inbound'])\n",
    "ax.figure.set_size_inches(12, 8)\n",
    "plt.show()"
   ]
  },
  {
   "cell_type": "code",
   "execution_count": null,
   "id": "303e43cb-bfd4-496b-ab1f-cf78019edbc7",
   "metadata": {},
   "outputs": [],
   "source": []
  }
 ],
 "metadata": {
  "kernelspec": {
   "display_name": "Python 3 (ipykernel)",
   "language": "python",
   "name": "python3"
  },
  "language_info": {
   "codemirror_mode": {
    "name": "ipython",
    "version": 3
   },
   "file_extension": ".py",
   "mimetype": "text/x-python",
   "name": "python",
   "nbconvert_exporter": "python",
   "pygments_lexer": "ipython3",
   "version": "3.10.9"
  }
 },
 "nbformat": 4,
 "nbformat_minor": 5
}
